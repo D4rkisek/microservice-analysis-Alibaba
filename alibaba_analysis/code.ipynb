{
 "cells": [
  {
   "cell_type": "code",
   "execution_count": 8,
   "id": "62502327-c5aa-4e2d-b042-620ce66699df",
   "metadata": {},
   "outputs": [
    {
     "name": "stdout",
     "output_type": "stream",
     "text": [
      "Requirement already satisfied: raphtory in c:\\jupyterlab\\server\\lib\\site-packages (0.6.1)\n",
      "Requirement already satisfied: pyvis>=0.3.2 in c:\\jupyterlab\\server\\lib\\site-packages (from raphtory) (0.3.2)\n",
      "Requirement already satisfied: networkx>=2.6.3 in c:\\jupyterlab\\server\\lib\\site-packages (from raphtory) (3.1)\n",
      "Requirement already satisfied: pandas>=2.0.3 in c:\\jupyterlab\\server\\lib\\site-packages (from raphtory) (2.0.3)\n",
      "Requirement already satisfied: pyarrow>=12.0.1 in c:\\jupyterlab\\server\\lib\\site-packages (from raphtory) (14.0.0)\n",
      "Requirement already satisfied: requests>=2.31.0 in c:\\jupyterlab\\server\\lib\\site-packages (from raphtory) (2.31.0)\n",
      "Requirement already satisfied: gql[all]==3.4.1 in c:\\jupyterlab\\server\\lib\\site-packages (from raphtory) (3.4.1)\n",
      "Requirement already satisfied: graphql-core<3.3,>=3.2 in c:\\jupyterlab\\server\\lib\\site-packages (from gql[all]==3.4.1->raphtory) (3.2.3)\n",
      "Requirement already satisfied: yarl<2.0,>=1.6 in c:\\jupyterlab\\server\\lib\\site-packages (from gql[all]==3.4.1->raphtory) (1.9.2)\n",
      "Requirement already satisfied: backoff<3.0,>=1.11.1 in c:\\jupyterlab\\server\\lib\\site-packages (from gql[all]==3.4.1->raphtory) (2.2.1)\n",
      "Requirement already satisfied: aiohttp<3.9.0,>=3.7.1 in c:\\jupyterlab\\server\\lib\\site-packages (from gql[all]==3.4.1->raphtory) (3.8.6)\n",
      "Requirement already satisfied: requests-toolbelt<1,>=0.9.1 in c:\\jupyterlab\\server\\lib\\site-packages (from gql[all]==3.4.1->raphtory) (0.10.1)\n",
      "Requirement already satisfied: urllib3<2,>=1.26 in c:\\jupyterlab\\server\\lib\\site-packages (from gql[all]==3.4.1->raphtory) (1.26.15)\n",
      "Requirement already satisfied: botocore<2,>=1.21 in c:\\jupyterlab\\server\\lib\\site-packages (from gql[all]==3.4.1->raphtory) (1.31.76)\n",
      "Requirement already satisfied: websockets<11,>=10 in c:\\jupyterlab\\server\\lib\\site-packages (from gql[all]==3.4.1->raphtory) (10.4)\n",
      "Requirement already satisfied: python-dateutil>=2.8.2 in c:\\jupyterlab\\server\\lib\\site-packages (from pandas>=2.0.3->raphtory) (2.8.2)\n",
      "Requirement already satisfied: pytz>=2020.1 in c:\\jupyterlab\\server\\lib\\site-packages (from pandas>=2.0.3->raphtory) (2023.3)\n",
      "Requirement already satisfied: tzdata>=2022.1 in c:\\jupyterlab\\server\\lib\\site-packages (from pandas>=2.0.3->raphtory) (2023.3)\n",
      "Requirement already satisfied: numpy>=1.20.3 in c:\\jupyterlab\\server\\lib\\site-packages (from pandas>=2.0.3->raphtory) (1.24.3)\n",
      "Requirement already satisfied: ipython>=5.3.0 in c:\\jupyterlab\\server\\lib\\site-packages (from pyvis>=0.3.2->raphtory) (8.12.2)\n",
      "Requirement already satisfied: jinja2>=2.9.6 in c:\\jupyterlab\\server\\lib\\site-packages (from pyvis>=0.3.2->raphtory) (3.1.2)\n",
      "Requirement already satisfied: jsonpickle>=1.4.1 in c:\\jupyterlab\\server\\lib\\site-packages (from pyvis>=0.3.2->raphtory) (3.0.2)\n",
      "Requirement already satisfied: charset-normalizer<4,>=2 in c:\\jupyterlab\\server\\lib\\site-packages (from requests>=2.31.0->raphtory) (3.1.0)\n",
      "Requirement already satisfied: idna<4,>=2.5 in c:\\jupyterlab\\server\\lib\\site-packages (from requests>=2.31.0->raphtory) (3.4)\n",
      "Requirement already satisfied: certifi>=2017.4.17 in c:\\jupyterlab\\server\\lib\\site-packages (from requests>=2.31.0->raphtory) (2023.5.7)\n",
      "Requirement already satisfied: attrs>=17.3.0 in c:\\jupyterlab\\server\\lib\\site-packages (from aiohttp<3.9.0,>=3.7.1->gql[all]==3.4.1->raphtory) (23.1.0)\n",
      "Requirement already satisfied: multidict<7.0,>=4.5 in c:\\jupyterlab\\server\\lib\\site-packages (from aiohttp<3.9.0,>=3.7.1->gql[all]==3.4.1->raphtory) (6.0.4)\n",
      "Requirement already satisfied: async-timeout<5.0,>=4.0.0a3 in c:\\jupyterlab\\server\\lib\\site-packages (from aiohttp<3.9.0,>=3.7.1->gql[all]==3.4.1->raphtory) (4.0.3)\n",
      "Requirement already satisfied: frozenlist>=1.1.1 in c:\\jupyterlab\\server\\lib\\site-packages (from aiohttp<3.9.0,>=3.7.1->gql[all]==3.4.1->raphtory) (1.4.0)\n",
      "Requirement already satisfied: aiosignal>=1.1.2 in c:\\jupyterlab\\server\\lib\\site-packages (from aiohttp<3.9.0,>=3.7.1->gql[all]==3.4.1->raphtory) (1.3.1)\n",
      "Requirement already satisfied: jmespath<2.0.0,>=0.7.1 in c:\\jupyterlab\\server\\lib\\site-packages (from botocore<2,>=1.21->gql[all]==3.4.1->raphtory) (1.0.1)\n",
      "Requirement already satisfied: backcall in c:\\jupyterlab\\server\\lib\\site-packages (from ipython>=5.3.0->pyvis>=0.3.2->raphtory) (0.2.0)\n",
      "Requirement already satisfied: decorator in c:\\jupyterlab\\server\\lib\\site-packages (from ipython>=5.3.0->pyvis>=0.3.2->raphtory) (5.1.1)\n",
      "Requirement already satisfied: jedi>=0.16 in c:\\jupyterlab\\server\\lib\\site-packages (from ipython>=5.3.0->pyvis>=0.3.2->raphtory) (0.18.2)\n",
      "Requirement already satisfied: matplotlib-inline in c:\\jupyterlab\\server\\lib\\site-packages (from ipython>=5.3.0->pyvis>=0.3.2->raphtory) (0.1.6)\n",
      "Requirement already satisfied: pickleshare in c:\\jupyterlab\\server\\lib\\site-packages (from ipython>=5.3.0->pyvis>=0.3.2->raphtory) (0.7.5)\n",
      "Requirement already satisfied: prompt-toolkit!=3.0.37,<3.1.0,>=3.0.30 in c:\\jupyterlab\\server\\lib\\site-packages (from ipython>=5.3.0->pyvis>=0.3.2->raphtory) (3.0.38)\n",
      "Requirement already satisfied: pygments>=2.4.0 in c:\\jupyterlab\\server\\lib\\site-packages (from ipython>=5.3.0->pyvis>=0.3.2->raphtory) (2.15.1)\n",
      "Requirement already satisfied: stack-data in c:\\jupyterlab\\server\\lib\\site-packages (from ipython>=5.3.0->pyvis>=0.3.2->raphtory) (0.6.2)\n",
      "Requirement already satisfied: traitlets>=5 in c:\\jupyterlab\\server\\lib\\site-packages (from ipython>=5.3.0->pyvis>=0.3.2->raphtory) (5.9.0)\n",
      "Requirement already satisfied: typing-extensions in c:\\jupyterlab\\server\\lib\\site-packages (from ipython>=5.3.0->pyvis>=0.3.2->raphtory) (4.5.0)\n",
      "Requirement already satisfied: colorama in c:\\jupyterlab\\server\\lib\\site-packages (from ipython>=5.3.0->pyvis>=0.3.2->raphtory) (0.4.6)\n",
      "Requirement already satisfied: MarkupSafe>=2.0 in c:\\jupyterlab\\server\\lib\\site-packages (from jinja2>=2.9.6->pyvis>=0.3.2->raphtory) (2.1.2)\n",
      "Requirement already satisfied: six>=1.5 in c:\\jupyterlab\\server\\lib\\site-packages (from python-dateutil>=2.8.2->pandas>=2.0.3->raphtory) (1.16.0)\n",
      "Requirement already satisfied: parso<0.9.0,>=0.8.0 in c:\\jupyterlab\\server\\lib\\site-packages (from jedi>=0.16->ipython>=5.3.0->pyvis>=0.3.2->raphtory) (0.8.3)\n",
      "Requirement already satisfied: wcwidth in c:\\jupyterlab\\server\\lib\\site-packages (from prompt-toolkit!=3.0.37,<3.1.0,>=3.0.30->ipython>=5.3.0->pyvis>=0.3.2->raphtory) (0.2.6)\n",
      "Requirement already satisfied: executing>=1.2.0 in c:\\jupyterlab\\server\\lib\\site-packages (from stack-data->ipython>=5.3.0->pyvis>=0.3.2->raphtory) (1.2.0)\n",
      "Requirement already satisfied: asttokens>=2.1.0 in c:\\jupyterlab\\server\\lib\\site-packages (from stack-data->ipython>=5.3.0->pyvis>=0.3.2->raphtory) (2.2.1)\n",
      "Requirement already satisfied: pure-eval in c:\\jupyterlab\\server\\lib\\site-packages (from stack-data->ipython>=5.3.0->pyvis>=0.3.2->raphtory) (0.2.2)\n"
     ]
    }
   ],
   "source": [
    "!pip install raphtory\n"
   ]
  },
  {
   "cell_type": "code",
   "execution_count": 19,
   "id": "9c243e71-36f7-4a7e-8099-ca659a661587",
   "metadata": {},
   "outputs": [],
   "source": [
    "# Import necessary libraries\n",
    "import pandas as pd\n",
    "from raphtory import Graph\n",
    "\n",
    "def preprocess_and_load_data(filepath):\n",
    "    \"\"\"\n",
    "    Load and preprocess call graph data from a CSV file.\n",
    "    \n",
    "    This function performs several preprocessing steps on call graph data, including:\n",
    "    1. Loading specific columns from the CSV file.\n",
    "    2. Removing rows containing specific unwanted values.\n",
    "    3. Handling missing values by removing rows with any NaN values.\n",
    "    4. Normalising the 'timestamp' values by subtracting the minimum timestamp from all timestamp values.\n",
    "    5. Creates a 'weight' column which referes to the frequency of the same 'um', 'dm', and 'timestamp' values.\n",
    "    6. Merges the weight column back into the original DataFrame.\n",
    "    7. Ensures the 'timestamp' column is of type int64. (Otherwise Raphtory would throw the \"Source and Target columns must be either u64 or text, Time column must be i64.\" error)\n",
    "    \n",
    "    The columns to be loaded and their respective data types are predefined within the function. The unwanted values that are to be removed are also predefined.\n",
    "    \n",
    "    Parameters:\n",
    "    file_path (str): The path to the CSV file.\n",
    "    \n",
    "    Returns:\n",
    "    pd.DataFrame: A pandas DataFrame containing the preprocessed call graph data.\n",
    "    \n",
    "    Note:\n",
    "    The function assumes that the input CSV file adheres to a specific structure and contains specific columns. If the CSV file differs significantly from this expected structure, the function may not perform correctly.\n",
    "    \"\"\"\n",
    "\n",
    "    # Define the columns that need to be loaded\n",
    "    columns = [\"timestamp\", \"um\", \"dm\"]\n",
    "\n",
    "    # Define data types for each column\n",
    "    data_types = {\n",
    "        \"timestamp\": int,\n",
    "        \"um\": str,\n",
    "        \"dm\": str,\n",
    "    }\n",
    "\n",
    "    # Load the data\n",
    "    call_graph_df = pd.read_csv(filepath, usecols=columns, dtype=data_types)\n",
    "\n",
    "    # Remove rows with unwanted values & Filter out rows that have any NaN values\n",
    "    unwanted_values=[\"UNKNOWN\", \"UNAVAILABLE\"]\n",
    "    call_graph_df = call_graph_df[~call_graph_df.isin(unwanted_values).any(axis=1)].copy()\n",
    "    call_graph_df = call_graph_df.dropna()\n",
    "\n",
    "    # Find the lowest value in column 'timestamp' and subtract it from every value in the column\n",
    "    call_graph_df['timestamp'] -= call_graph_df['timestamp'].min()\n",
    "\n",
    "    # Group by 'um', 'dm', and 'timestamp', and count the number of occurrences calling it weight\n",
    "    edge_weights_df = call_graph_df.groupby(['um', 'dm', 'timestamp']).size().reset_index(name='weight')\n",
    "\n",
    "    # Merge the counts back into the original DataFrame\n",
    "    call_graph_df = pd.merge(call_graph_df, edge_weights_df, on=['um', 'dm', 'timestamp'], how='left')\n",
    "\n",
    "    # Ensure 'timestamp' column is int64\n",
    "    call_graph_df['timestamp'] = call_graph_df['timestamp'].astype('int64')\n",
    "\n",
    "    return call_graph_df"
   ]
  },
  {
   "cell_type": "code",
   "execution_count": 18,
   "id": "2485722e-dda2-4096-b406-90eb06fe3f0f",
   "metadata": {},
   "outputs": [
    {
     "data": {
      "application/vnd.jupyter.widget-view+json": {
       "model_id": "5b9cecf60e874c0cac2daefddc939f83",
       "version_major": 2,
       "version_minor": 0
      },
      "text/plain": [
       "HBox(children=(HTML(value=''), IntProgress(value=0, max=10395251), HTML(value='')))"
      ]
     },
     "metadata": {},
     "output_type": "display_data"
    },
    {
     "name": "stdout",
     "output_type": "stream",
     "text": [
      "Graph(number_of_edges=51364, number_of_vertices=16666, number_of_temporal_edges=10395251, earliest_time=\"0\", latest_time=\"179999\")\n"
     ]
    }
   ],
   "source": [
    "filepath = '../Alibaba-CallGraph/CallGraph_1.csv'\n",
    "\n",
    "call_graph_df = preprocess_and_load_data(filepath)\n",
    "\n",
    "# Load the data into Raphtory\n",
    "g = Graph.load_from_pandas(\n",
    "    edge_df=call_graph_df,\n",
    "    edge_src=\"um\",\n",
    "    edge_dst=\"dm\",\n",
    "    edge_time=\"timestamp\",\n",
    "    edge_props=[\"weight\"]\n",
    ")\n",
    "\n",
    "print(g)"
   ]
  },
  {
   "cell_type": "code",
   "execution_count": 12,
   "id": "10d30f07-5d66-4dc5-82a3-c7db5841eb9f",
   "metadata": {},
   "outputs": [
    {
     "name": "stdout",
     "output_type": "stream",
     "text": [
      "timestamp     int32\n",
      "um           object\n",
      "dm           object\n",
      "weight        int64\n",
      "dtype: object\n",
      "timestamp    0\n",
      "um           0\n",
      "dm           0\n",
      "weight       0\n",
      "dtype: int64\n",
      "timestamp    0\n",
      "um           0\n",
      "dm           0\n",
      "weight       0\n",
      "dtype: int64\n"
     ]
    }
   ],
   "source": [
    "g.save_to_file(\"/tmp/saved_graph\")\n",
    "loaded_graph = Graph.load_from_file(\"/tmp/saved_graph\")\n",
    "print(loaded_graph)\n",
    "\n",
    "\n",
    "print(call_graph_df.dtypes)\n",
    "print(call_graph_df.isnull().sum())\n",
    "print(call_graph_df.isin([np.inf, -np.inf]).sum())"
   ]
  },
  {
   "cell_type": "code",
   "execution_count": null,
   "id": "9cf3d0cb-4b08-4556-881b-c80afad55f5d",
   "metadata": {},
   "outputs": [],
   "source": []
  }
 ],
 "metadata": {
  "kernelspec": {
   "display_name": "Python 3 (ipykernel)",
   "language": "python",
   "name": "python3"
  },
  "language_info": {
   "codemirror_mode": {
    "name": "ipython",
    "version": 3
   },
   "file_extension": ".py",
   "mimetype": "text/x-python",
   "name": "python",
   "nbconvert_exporter": "python",
   "pygments_lexer": "ipython3",
   "version": "3.8.16"
  }
 },
 "nbformat": 4,
 "nbformat_minor": 5
}
