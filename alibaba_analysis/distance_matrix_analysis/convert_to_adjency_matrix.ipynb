{
 "cells": [
  {
   "cell_type": "code",
   "execution_count": null,
   "metadata": {},
   "outputs": [],
   "source": [
    "from raphtory import Graph\n",
    "import numpy as np\n",
    "\n",
    "# Identify all unique nodes\n",
    "#print(list(g.vertices.name))\n",
    "# [ms3123,ms323,...]\n",
    "\n",
    "# Create a node index map\n",
    "node_index = {node_name: i for i, node_name in enumerate(list(g.vertices.name))}\n",
    "#print(node_index)\n",
    "# [ms3123:0, ms323:1,...]\n",
    "\n",
    "# Initialise adjacency matrix\n",
    "adjacency_matrix = np.zeros((len(list(g.vertices.name)), len(list(g.vertices.name))), dtype=int)\n",
    "#[[0 0 0 ... 0 0 0]\n",
    "# [0 0 0 ... 0 0 0]\n",
    "# [0 0 0 ... 0 0 0]\n",
    "# ...\n",
    "# [0 0 0 ... 0 0 0]\n",
    "# [0 0 0 ... 0 0 0]\n",
    "# [0 0 0 ... 0 0 0]]\n",
    "\n",
    "\n",
    "# Populate adjacency matrix\n",
    "for edge in g.edges:\n",
    "    src_index = node_index[edge.src.name]\n",
    "    dst_index = node_index[edge.dst.name]\n",
    "\n",
    "    adjacency_matrix[src_index, dst_index] = 1\n",
    "\n",
    "#print(adjacency_matrix)\n",
    "#[[0 1 0 ... 0 0 0]\n",
    "# [0 0 0 ... 0 0 0]\n",
    "# [0 0 1 ... 0 0 0]\n",
    "# ...\n",
    "# [0 0 0 ... 0 0 0]\n",
    "# [0 0 0 ... 0 0 0]\n",
    "# [0 0 0 ... 0 0 0]]\n",
    "\n",
    "A_dict = {'1': adjacency_matrix}\n",
    "print(A_dict)\n",
    "\n",
    "# Pickle the variables"
   ]
  }
 ],
 "metadata": {
  "language_info": {
   "name": "python"
  }
 },
 "nbformat": 4,
 "nbformat_minor": 2
}
