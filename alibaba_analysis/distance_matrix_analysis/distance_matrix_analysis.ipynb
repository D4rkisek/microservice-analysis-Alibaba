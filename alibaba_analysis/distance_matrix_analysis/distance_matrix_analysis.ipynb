{
 "cells": [
  {
   "cell_type": "code",
   "execution_count": 1,
   "metadata": {},
   "outputs": [
    {
     "name": "stdout",
     "output_type": "stream",
     "text": [
      "Graph(number_of_edges=97252, number_of_vertices=26533, number_of_temporal_edges=159288593, earliest_time=\"7200000\", latest_time=\"10799999\")\n"
     ]
    }
   ],
   "source": [
    "import os\n",
    "from raphtory import Graph\n",
    "\n",
    "# Specify the file path\n",
    "binecode_path = \"C:/ms_bincode/Graph_3\"\n",
    "\n",
    "# Load the file\n",
    "if os.path.isfile(binecode_path):\n",
    "    g = Graph.load_from_file(binecode_path)\n",
    "    print(g)\n",
    "else:\n",
    "    print(f\"File does not exist: {binecode_path}\")"
   ]
  },
  {
   "cell_type": "code",
   "execution_count": 3,
   "metadata": {},
   "outputs": [
    {
     "name": "stdout",
     "output_type": "stream",
     "text": [
      "Graph(number_of_edges=34081, number_of_vertices=12182, number_of_temporal_edges=3273937, earliest_time=\"10200000\", latest_time=\"10259999\")\n"
     ]
    }
   ],
   "source": [
    "from raphtory import algorithms as rp\n",
    "from raphtory import Graph\n",
    "\n",
    "start_time = 10200000 # Minute 170\n",
    "end_time = 10200000 +60000 # Minute 171\n",
    "\n",
    "g_spike_spike = g.window(start_time, end_time)\n",
    "print(g_spike_spike)"
   ]
  },
  {
   "cell_type": "code",
   "execution_count": 4,
   "metadata": {},
   "outputs": [],
   "source": [
    "import numpy as np\n",
    "\n",
    "def transfor_into_adjacency_matrix(graph):\n",
    "    node_index = {node_name: i for i, node_name in enumerate(list(graph.vertices.name))}\n",
    "    adjacency_matrix = np.zeros((len(node_index), len(node_index)), dtype=int)\n",
    "    for edge in graph.edges:\n",
    "        src_index = node_index[edge.src.name]\n",
    "        dst_index = node_index[edge.dst.name]\n",
    "        adjacency_matrix[src_index, dst_index] = 1\n",
    "    return adjacency_matrix"
   ]
  },
  {
   "cell_type": "markdown",
   "metadata": {},
   "source": [
    "# Turn one minute graph into adjacency matrices"
   ]
  },
  {
   "cell_type": "code",
   "execution_count": 11,
   "metadata": {},
   "outputs": [],
   "source": [
    "A_dict = {}\n",
    "i = 0\n",
    "\n",
    "# For each minute segment, generate an adjacency matrix and store it.\n",
    "for windowed_graph in g_spike_spike.rolling(window=30000):\n",
    "    i +=1\n",
    "    minute_graph_segment = windowed_graph\n",
    "    adjacency_matrix = transfor_into_adjacency_matrix(minute_graph_segment)\n",
    "    A_dict[i] = adjacency_matrix"
   ]
  },
  {
   "cell_type": "code",
   "execution_count": 17,
   "metadata": {},
   "outputs": [],
   "source": [
    "# Step 1: Identify all unique vertices\n",
    "all_vertices = set()\n",
    "for windowed_graph in g_spike_spike.rolling(window=30000):\n",
    "    for vertex in windowed_graph.vertices:\n",
    "        all_vertices.add(vertex.name)\n",
    "\n",
    "# Create a global index for all vertices\n",
    "node_index = {node_name: i for i, node_name in enumerate(list(all_vertices))}\n",
    "\n",
    "def transform_into_adjacency_matrix(graph, node_index):\n",
    "    \"\"\"Generates an adjacency matrix for the graph using a global node index.\"\"\"\n",
    "    adjacency_matrix = np.zeros((len(node_index), len(node_index)), dtype=int)\n",
    "    for edge in graph.edges:\n",
    "        src_index = node_index[edge.src.name]\n",
    "        dst_index = node_index[edge.dst.name]\n",
    "        adjacency_matrix[src_index, dst_index] = 1\n",
    "    return adjacency_matrix\n",
    "\n",
    "A_dict = {}\n",
    "i = 0\n",
    "\n",
    "# Step 2: Generate adjacency matrices with consistent dimensions\n",
    "for windowed_graph in g_spike_spike.rolling(window=30000):\n",
    "    i += 1\n",
    "    minute_graph_segment = windowed_graph\n",
    "    adjacency_matrix = transform_into_adjacency_matrix(minute_graph_segment, node_index)\n",
    "    A_dict[i] = adjacency_matrix"
   ]
  },
  {
   "cell_type": "code",
   "execution_count": 19,
   "metadata": {},
   "outputs": [
    {
     "name": "stdout",
     "output_type": "stream",
     "text": [
      "{1: array([[1, 0, 0, ..., 0, 0, 0],\n",
      "       [0, 0, 0, ..., 0, 0, 0],\n",
      "       [0, 0, 0, ..., 0, 0, 0],\n",
      "       ...,\n",
      "       [0, 0, 0, ..., 0, 0, 0],\n",
      "       [0, 0, 0, ..., 0, 0, 0],\n",
      "       [0, 0, 0, ..., 0, 0, 0]]), 2: array([[1, 0, 0, ..., 0, 0, 0],\n",
      "       [0, 0, 0, ..., 0, 0, 0],\n",
      "       [0, 0, 0, ..., 0, 0, 0],\n",
      "       ...,\n",
      "       [0, 0, 0, ..., 0, 0, 0],\n",
      "       [0, 0, 0, ..., 0, 0, 0],\n",
      "       [0, 0, 0, ..., 0, 0, 0]])}\n"
     ]
    }
   ],
   "source": [
    "print(A_dict)"
   ]
  },
  {
   "cell_type": "code",
   "execution_count": 5,
   "metadata": {},
   "outputs": [],
   "source": [
    "# -*- coding: utf-8 -*-\n",
    "\"\"\"\n",
    "Created on Mon Feb  6 10:52:20 2023\n",
    "\n",
    "@author: Giles\n",
    "https://github.com/gwinch97/pystates\n",
    "\"\"\"\n",
    "\n",
    "import numpy as np\n",
    "from tqdm import tqdm,trange\n",
    "from scipy.sparse.csgraph import laplacian\n",
    "\n",
    "\n",
    "\n",
    "def claplacian(M,norm=True):\n",
    "    if norm == True:\n",
    "        L = np.diag(sum(M)) - M\n",
    "        v = 1./np.sqrt(sum(M))\n",
    "        return np.diag(v) * L * np.diag(v)\n",
    "    else:\n",
    "        return np.diag(sum(M)) - M\n",
    "    \n",
    "def eigenspectrum(L):\n",
    "    eigvals = np.real(np.linalg.eig(L)[0])\n",
    "    return -np.sort(-eigvals)\n",
    "\n",
    "def all_spectrums(A_dict,norm=True):\n",
    "    dict_keys = list(A_dict.keys())\n",
    "    eigenspectrums = np.zeros((np.shape(A_dict[dict_keys[0]])[0], len(dict_keys)))\n",
    "    i = 0\n",
    "    for key in tqdm(dict_keys):\n",
    "        L = laplacian(A_dict[key],normed=norm)\n",
    "        eigenspectrums[:,i] = eigenspectrum(L)\n",
    "        i+=1\n",
    "    return eigenspectrums\n",
    "    \n",
    "def snapshot_dist(eigenspectrums,norm=True):\n",
    "    # Old implementation, now use scipy.spatial.distance.cdist\n",
    "    N = np.shape(eigenspectrums)[1]\n",
    "    dist = np.zeros((N,N))\n",
    "    for i in trange(N):\n",
    "        for j in range(N):\n",
    "            dist[i,j] = np.sqrt(np.sum(np.power((eigenspectrums[:,i]-eigenspectrums[:,j]),2)))\n",
    "            if norm == True:\n",
    "                if max(max(eigenspectrums[:,i]),max(eigenspectrums[:,j])) > 1e-10:\n",
    "                    dist[i,j] = dist[i,j]/np.sqrt(max((np.sum(np.power(eigenspectrums[:,i],2))),(np.sum(np.power(eigenspectrums[:,j],2)))))\n",
    "                else:\n",
    "                    dist[i,j] = 0\n",
    "                    \n",
    "    return dist  "
   ]
  },
  {
   "cell_type": "code",
   "execution_count": 20,
   "metadata": {},
   "outputs": [
    {
     "name": "stderr",
     "output_type": "stream",
     "text": [
      "100%|██████████| 2/2 [01:23<00:00, 41.96s/it]\n"
     ]
    }
   ],
   "source": [
    "from scipy.spatial import distance\n",
    "import pickle\n",
    "from sklearn.manifold import MDS\n",
    "from sklearn.cluster import KMeans, AgglomerativeClustering\n",
    "import matplotlib.pyplot as plt\n",
    "import numpy as np\n",
    "import scipy as sp\n",
    "import random\n",
    "from random import randint\n",
    "\n",
    "eigenspectrums = all_spectrums(A_dict,norm=True).T"
   ]
  },
  {
   "cell_type": "code",
   "execution_count": 22,
   "metadata": {},
   "outputs": [
    {
     "data": {
      "text/plain": [
       "[<matplotlib.lines.Line2D at 0x2001ccdc690>]"
      ]
     },
     "execution_count": 22,
     "metadata": {},
     "output_type": "execute_result"
    },
    {
     "data": {
      "image/png": "[encoded data removed]",
      "text/plain": [
       "<Figure size 640x480 with 1 Axes>"
      ]
     },
     "metadata": {},
     "output_type": "display_data"
    },
    {
     "data": {
      "image/png": "[encoded data removed]",
      "text/plain": [
       "<Figure size 640x480 with 1 Axes>"
      ]
     },
     "metadata": {},
     "output_type": "display_data"
    }
   ],
   "source": [
    "dist2 = distance.cdist(eigenspectrums,eigenspectrums,'euclidean')\n",
    "mds = MDS(n_components=2,dissimilarity='precomputed',random_state=0)\n",
    "results = mds.fit(dist2)\n",
    "coords = results.embedding_\n",
    "\n",
    "agg = AgglomerativeClustering().fit(coords)\n",
    "labels = agg.labels_\n",
    "colours = []\n",
    "for i in range(np.max(labels)+1):\n",
    "    colours.append('#%06X' % randint(0, 0xFFFFFF))\n",
    "cmap=[]\n",
    "for i in labels:\n",
    "    cmap.append(colours[i])\n",
    "plt.figure()\n",
    "plt.scatter(coords[:,0],coords[:,1],c=cmap)\n",
    "\n",
    "plt.figure()\n",
    "plt.plot(labels,'k.')"
   ]
  },
  {
   "cell_type": "code",
   "execution_count": 13,
   "metadata": {},
   "outputs": [
    {
     "ename": "KeyboardInterrupt",
     "evalue": "",
     "output_type": "error",
     "traceback": [
      "\u001b[1;31m---------------------------------------------------------------------------\u001b[0m",
      "\u001b[1;31mKeyboardInterrupt\u001b[0m                         Traceback (most recent call last)",
      "Cell \u001b[1;32mIn[13], line 11\u001b[0m\n\u001b[0;32m      9\u001b[0m \u001b[38;5;28;01mfrom\u001b[39;00m \u001b[38;5;21;01mscipy\u001b[39;00m\u001b[38;5;21;01m.\u001b[39;00m\u001b[38;5;21;01mspatial\u001b[39;00m \u001b[38;5;28;01mimport\u001b[39;00m distance\n\u001b[0;32m     10\u001b[0m \u001b[38;5;28;01mimport\u001b[39;00m \u001b[38;5;21;01mpickle\u001b[39;00m\n\u001b[1;32m---> 11\u001b[0m \u001b[38;5;28;01mfrom\u001b[39;00m \u001b[38;5;21;01msklearn\u001b[39;00m\u001b[38;5;21;01m.\u001b[39;00m\u001b[38;5;21;01mmanifold\u001b[39;00m \u001b[38;5;28;01mimport\u001b[39;00m MDS\n\u001b[0;32m     12\u001b[0m \u001b[38;5;28;01mfrom\u001b[39;00m \u001b[38;5;21;01msklearn\u001b[39;00m\u001b[38;5;21;01m.\u001b[39;00m\u001b[38;5;21;01mcluster\u001b[39;00m \u001b[38;5;28;01mimport\u001b[39;00m KMeans, AgglomerativeClustering\n\u001b[0;32m     13\u001b[0m \u001b[38;5;28;01mimport\u001b[39;00m \u001b[38;5;21;01mmatplotlib\u001b[39;00m\u001b[38;5;21;01m.\u001b[39;00m\u001b[38;5;21;01mpyplot\u001b[39;00m \u001b[38;5;28;01mas\u001b[39;00m \u001b[38;5;21;01mplt\u001b[39;00m\n",
      "File \u001b[1;32mc:\\Users\\maruf\\AppData\\Local\\Programs\\Python\\Python311\\Lib\\site-packages\\sklearn\\manifold\\__init__.py:9\u001b[0m\n\u001b[0;32m      7\u001b[0m \u001b[38;5;28;01mfrom\u001b[39;00m \u001b[38;5;21;01m.\u001b[39;00m\u001b[38;5;21;01m_mds\u001b[39;00m \u001b[38;5;28;01mimport\u001b[39;00m MDS, smacof\n\u001b[0;32m      8\u001b[0m \u001b[38;5;28;01mfrom\u001b[39;00m \u001b[38;5;21;01m.\u001b[39;00m\u001b[38;5;21;01m_spectral_embedding\u001b[39;00m \u001b[38;5;28;01mimport\u001b[39;00m SpectralEmbedding, spectral_embedding\n\u001b[1;32m----> 9\u001b[0m \u001b[38;5;28;01mfrom\u001b[39;00m \u001b[38;5;21;01m.\u001b[39;00m\u001b[38;5;21;01m_t_sne\u001b[39;00m \u001b[38;5;28;01mimport\u001b[39;00m TSNE, trustworthiness\n\u001b[0;32m     11\u001b[0m __all__ \u001b[38;5;241m=\u001b[39m [\n\u001b[0;32m     12\u001b[0m     \u001b[38;5;124m\"\u001b[39m\u001b[38;5;124mlocally_linear_embedding\u001b[39m\u001b[38;5;124m\"\u001b[39m,\n\u001b[0;32m     13\u001b[0m     \u001b[38;5;124m\"\u001b[39m\u001b[38;5;124mLocallyLinearEmbedding\u001b[39m\u001b[38;5;124m\"\u001b[39m,\n\u001b[1;32m   (...)\u001b[0m\n\u001b[0;32m     20\u001b[0m     \u001b[38;5;124m\"\u001b[39m\u001b[38;5;124mtrustworthiness\u001b[39m\u001b[38;5;124m\"\u001b[39m,\n\u001b[0;32m     21\u001b[0m ]\n",
      "File \u001b[1;32mc:\\Users\\maruf\\AppData\\Local\\Programs\\Python\\Python311\\Lib\\site-packages\\sklearn\\manifold\\_t_sne.py:35\u001b[0m\n\u001b[0;32m     31\u001b[0m \u001b[38;5;28;01mfrom\u001b[39;00m \u001b[38;5;21;01m.\u001b[39;00m\u001b[38;5;21;01m.\u001b[39;00m\u001b[38;5;21;01mutils\u001b[39;00m\u001b[38;5;21;01m.\u001b[39;00m\u001b[38;5;21;01mvalidation\u001b[39;00m \u001b[38;5;28;01mimport\u001b[39;00m _num_samples, check_non_negative\n\u001b[0;32m     33\u001b[0m \u001b[38;5;66;03m# mypy error: Module 'sklearn.manifold' has no attribute '_utils'\u001b[39;00m\n\u001b[0;32m     34\u001b[0m \u001b[38;5;66;03m# mypy error: Module 'sklearn.manifold' has no attribute '_barnes_hut_tsne'\u001b[39;00m\n\u001b[1;32m---> 35\u001b[0m \u001b[38;5;28;01mfrom\u001b[39;00m \u001b[38;5;21;01m.\u001b[39;00m \u001b[38;5;28;01mimport\u001b[39;00m _barnes_hut_tsne, _utils  \u001b[38;5;66;03m# type: ignore\u001b[39;00m\n\u001b[0;32m     37\u001b[0m MACHINE_EPSILON \u001b[38;5;241m=\u001b[39m np\u001b[38;5;241m.\u001b[39mfinfo(np\u001b[38;5;241m.\u001b[39mdouble)\u001b[38;5;241m.\u001b[39meps\n\u001b[0;32m     40\u001b[0m \u001b[38;5;28;01mdef\u001b[39;00m \u001b[38;5;21m_joint_probabilities\u001b[39m(distances, desired_perplexity, verbose):\n",
      "File \u001b[1;32msklearn\\\\manifold\\\\_barnes_hut_tsne.pyx:1\u001b[0m, in \u001b[0;36minit sklearn.manifold._barnes_hut_tsne\u001b[1;34m()\u001b[0m\n",
      "File \u001b[1;32msklearn\\\\neighbors\\\\_quad_tree.pyx:1\u001b[0m, in \u001b[0;36minit sklearn.neighbors._quad_tree\u001b[1;34m()\u001b[0m\n",
      "File \u001b[1;32mc:\\Users\\maruf\\AppData\\Local\\Programs\\Python\\Python311\\Lib\\site-packages\\sklearn\\tree\\__init__.py:6\u001b[0m\n\u001b[0;32m      1\u001b[0m \u001b[38;5;124;03m\"\"\"\u001b[39;00m\n\u001b[0;32m      2\u001b[0m \u001b[38;5;124;03mThe :mod:`sklearn.tree` module includes decision tree-based models for\u001b[39;00m\n\u001b[0;32m      3\u001b[0m \u001b[38;5;124;03mclassification and regression.\u001b[39;00m\n\u001b[0;32m      4\u001b[0m \u001b[38;5;124;03m\"\"\"\u001b[39;00m\n\u001b[1;32m----> 6\u001b[0m \u001b[38;5;28;01mfrom\u001b[39;00m \u001b[38;5;21;01m.\u001b[39;00m\u001b[38;5;21;01m_classes\u001b[39;00m \u001b[38;5;28;01mimport\u001b[39;00m (\n\u001b[0;32m      7\u001b[0m     BaseDecisionTree,\n\u001b[0;32m      8\u001b[0m     DecisionTreeClassifier,\n\u001b[0;32m      9\u001b[0m     DecisionTreeRegressor,\n\u001b[0;32m     10\u001b[0m     ExtraTreeClassifier,\n\u001b[0;32m     11\u001b[0m     ExtraTreeRegressor,\n\u001b[0;32m     12\u001b[0m )\n\u001b[0;32m     13\u001b[0m \u001b[38;5;28;01mfrom\u001b[39;00m \u001b[38;5;21;01m.\u001b[39;00m\u001b[38;5;21;01m_export\u001b[39;00m \u001b[38;5;28;01mimport\u001b[39;00m export_graphviz, export_text, plot_tree\n\u001b[0;32m     15\u001b[0m __all__ \u001b[38;5;241m=\u001b[39m [\n\u001b[0;32m     16\u001b[0m     \u001b[38;5;124m\"\u001b[39m\u001b[38;5;124mBaseDecisionTree\u001b[39m\u001b[38;5;124m\"\u001b[39m,\n\u001b[0;32m     17\u001b[0m     \u001b[38;5;124m\"\u001b[39m\u001b[38;5;124mDecisionTreeClassifier\u001b[39m\u001b[38;5;124m\"\u001b[39m,\n\u001b[1;32m   (...)\u001b[0m\n\u001b[0;32m     23\u001b[0m     \u001b[38;5;124m\"\u001b[39m\u001b[38;5;124mexport_text\u001b[39m\u001b[38;5;124m\"\u001b[39m,\n\u001b[0;32m     24\u001b[0m ]\n",
      "File \u001b[1;32mc:\\Users\\maruf\\AppData\\Local\\Programs\\Python\\Python311\\Lib\\site-packages\\sklearn\\tree\\_classes.py:44\u001b[0m\n\u001b[0;32m     37\u001b[0m \u001b[38;5;28;01mfrom\u001b[39;00m \u001b[38;5;21;01m.\u001b[39;00m\u001b[38;5;21;01m.\u001b[39;00m\u001b[38;5;21;01mutils\u001b[39;00m\u001b[38;5;21;01m.\u001b[39;00m\u001b[38;5;21;01mmulticlass\u001b[39;00m \u001b[38;5;28;01mimport\u001b[39;00m check_classification_targets\n\u001b[0;32m     38\u001b[0m \u001b[38;5;28;01mfrom\u001b[39;00m \u001b[38;5;21;01m.\u001b[39;00m\u001b[38;5;21;01m.\u001b[39;00m\u001b[38;5;21;01mutils\u001b[39;00m\u001b[38;5;21;01m.\u001b[39;00m\u001b[38;5;21;01mvalidation\u001b[39;00m \u001b[38;5;28;01mimport\u001b[39;00m (\n\u001b[0;32m     39\u001b[0m     _assert_all_finite_element_wise,\n\u001b[0;32m     40\u001b[0m     _check_sample_weight,\n\u001b[0;32m     41\u001b[0m     assert_all_finite,\n\u001b[0;32m     42\u001b[0m     check_is_fitted,\n\u001b[0;32m     43\u001b[0m )\n\u001b[1;32m---> 44\u001b[0m \u001b[38;5;28;01mfrom\u001b[39;00m \u001b[38;5;21;01m.\u001b[39;00m \u001b[38;5;28;01mimport\u001b[39;00m _criterion, _splitter, _tree\n\u001b[0;32m     45\u001b[0m \u001b[38;5;28;01mfrom\u001b[39;00m \u001b[38;5;21;01m.\u001b[39;00m\u001b[38;5;21;01m_criterion\u001b[39;00m \u001b[38;5;28;01mimport\u001b[39;00m Criterion\n\u001b[0;32m     46\u001b[0m \u001b[38;5;28;01mfrom\u001b[39;00m \u001b[38;5;21;01m.\u001b[39;00m\u001b[38;5;21;01m_splitter\u001b[39;00m \u001b[38;5;28;01mimport\u001b[39;00m Splitter\n",
      "File \u001b[1;32msklearn\\\\tree\\\\_criterion.pyx:1\u001b[0m, in \u001b[0;36minit sklearn.tree._criterion\u001b[1;34m()\u001b[0m\n",
      "File \u001b[1;32m<frozen importlib._bootstrap>:405\u001b[0m, in \u001b[0;36mparent\u001b[1;34m(self)\u001b[0m\n",
      "\u001b[1;31mKeyboardInterrupt\u001b[0m: "
     ]
    }
   ],
   "source": [
    "# -*- coding: utf-8 -*-\n",
    "\"\"\"\n",
    "Created on Wed Feb 14 14:29:54 2024\n",
    "\n",
    "@author: Giles\n",
    "https://github.com/gwinch97/pystates\n",
    "\"\"\"\n",
    "\n",
    "from scipy.spatial import distance\n",
    "import pickle\n",
    "from sklearn.manifold import MDS\n",
    "from sklearn.cluster import KMeans, AgglomerativeClustering\n",
    "import matplotlib.pyplot as plt\n",
    "import numpy as np\n",
    "import scipy as sp\n",
    "import random\n",
    "from random import randint\n",
    "\n",
    "def LMDS(D, lands, dim):\n",
    "\tDl = D[:,lands]\n",
    "\tn = len(Dl)\n",
    "\n",
    "\t# Centering matrix\n",
    "\tH = - np.ones((n, n))/n\n",
    "\tnp.fill_diagonal(H,1-1/n)\n",
    "\t# YY^T\n",
    "\tH = -H.dot(Dl**2).dot(H)/2\n",
    "\n",
    "\t# Diagonalize\n",
    "\tevals, evecs = np.linalg.eigh(H)\n",
    "\n",
    "\t# Sort by eigenvalue in descending order\n",
    "\tidx   = np.argsort(evals)[::-1]\n",
    "\tevals = evals[idx]\n",
    "\tevecs = evecs[:,idx]\n",
    "\n",
    "\t# Compute the coordinates using positive-eigenvalued components only\n",
    "\tw, = np.where(evals > 0)\n",
    "\tif dim:\n",
    "\t\tarr = evals\n",
    "\t\tw = arr.argsort()[-dim:][::-1]\n",
    "\t\tif np.any(evals[w]<0):\n",
    "\t\t\tprint('Error: Not enough positive eigenvalues for the selected dim.')\n",
    "\t\t\treturn []\n",
    "\tif w.size==0:\n",
    "\t\tprint('Error: matrix is negative definite.')\n",
    "\t\treturn []\n",
    "\n",
    "\tV = evecs[:,w]\n",
    "\tN = D.shape[1]\n",
    "\tLh = V.dot(np.diag(1./np.sqrt(evals[w]))).T\n",
    "\tDm = D - np.tile(np.mean(Dl,axis=1),(N, 1)).T\n",
    "\tdim = w.size\n",
    "\tX = -Lh.dot(Dm)/2.\n",
    "\tX -= np.tile(np.mean(X,axis=1),(N, 1)).T\n",
    "\n",
    "\t_, evecs = sp.linalg.eigh(X.dot(X.T))\n",
    "\n",
    "\treturn (evecs[:,::-1].T.dot(X)).T\n",
    "\n",
    "# Example usage\n",
    "with open(\"corrs.pkl\",\"rb\") as f:\n",
    "    corr_dict = pickle.load(f)\n",
    "\n",
    "eigenspectrums = all_spectrums(corr_dict,norm=True).T\n",
    "\n",
    "# Using old distance implementation - note this is much slower with the same result\n",
    "dist1 = snapshot_dist(eigenspectrums.T,norm=False)\n",
    "mds = MDS(n_components=2,dissimilarity='precomputed',random_state=0)\n",
    "results = mds.fit(dist1)\n",
    "coords = results.embedding_\n",
    "\n",
    "agg = AgglomerativeClustering().fit(coords)\n",
    "labels = agg.labels_\n",
    "colours = []\n",
    "for i in range(np.max(labels)+1):\n",
    "    colours.append('#%06X' % randint(0, 0xFFFFFF))\n",
    "cmap=[]\n",
    "for i in labels:\n",
    "    cmap.append(colours[i])\n",
    "plt.figure()\n",
    "plt.scatter(coords[:,0],coords[:,1],c=cmap)\n",
    "\n",
    "plt.figure()\n",
    "plt.plot(labels,'k.')\n",
    "\n",
    "# Using new distance implementation with MDS\n",
    "dist2 = distance.cdist(eigenspectrums,eigenspectrums,'euclidean')\n",
    "mds = MDS(n_components=2,dissimilarity='precomputed',random_state=0)\n",
    "results = mds.fit(dist1)\n",
    "coords = results.embedding_\n",
    "\n",
    "agg = AgglomerativeClustering().fit(coords)\n",
    "labels = agg.labels_\n",
    "colours = []\n",
    "for i in range(np.max(labels)+1):\n",
    "    colours.append('#%06X' % randint(0, 0xFFFFFF))\n",
    "cmap=[]\n",
    "for i in labels:\n",
    "    cmap.append(colours[i])\n",
    "plt.figure()\n",
    "plt.scatter(coords[:,0],coords[:,1],c=cmap)\n",
    "\n",
    "plt.figure()\n",
    "plt.plot(labels,'k.')\n",
    "\n",
    "# Example using LMDS instead of MDS\n",
    "landmarks = random.sample(range(0,eigenspectrums.shape[0],1),100)\n",
    "dist3 = distance.cdist(eigenspectrums[landmarks,:],eigenspectrums,'euclidean')\n",
    "coords = LMDS(dist3,landmarks,2)\n",
    "\n",
    "agg = AgglomerativeClustering().fit(coords)\n",
    "labels = agg.labels_\n",
    "colours = []\n",
    "for i in range(np.max(labels)+1):\n",
    "    colours.append('#%06X' % randint(0, 0xFFFFFF))\n",
    "cmap=[]\n",
    "for i in labels:\n",
    "    cmap.append(colours[i])\n",
    "plt.figure()\n",
    "plt.scatter(coords[:,0],coords[:,1],c=cmap)\n",
    "\n",
    "plt.figure()\n",
    "plt.plot(labels,'k.')\n"
   ]
  }
 ],
 "metadata": {
  "kernelspec": {
   "display_name": "Python 3",
   "language": "python",
   "name": "python3"
  },
  "language_info": {
   "codemirror_mode": {
    "name": "ipython",
    "version": 3
   },
   "file_extension": ".py",
   "mimetype": "text/x-python",
   "name": "python",
   "nbconvert_exporter": "python",
   "pygments_lexer": "ipython3",
   "version": "3.11.0"
  }
 },
 "nbformat": 4,
 "nbformat_minor": 2
}
