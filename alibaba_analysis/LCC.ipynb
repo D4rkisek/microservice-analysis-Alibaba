{
 "cells": [
  {
   "cell_type": "markdown",
   "metadata": {},
   "source": [
    "# Get the largest connected component "
   ]
  },
  {
   "cell_type": "code",
   "execution_count": 1,
   "metadata": {},
   "outputs": [
    {
     "name": "stdout",
     "output_type": "stream",
     "text": [
      "Graph(number_of_edges=118902, number_of_vertices=29988, number_of_temporal_edges=217542608, earliest_time=\"1\", latest_time=\"3779999\")\n",
      "Algorithm Name: Connected Components, Number of Vertices: 29988, Result Type: std::collections::hash::map::HashMap<alloc::string::String, u64>\n"
     ]
    }
   ],
   "source": [
    "import os\n",
    "from raphtory import Graph\n",
    "from raphtory import algorithms as rp\n",
    "\n",
    "# Specify the file path\n",
    "binecode_path = \"C:/ms_bincode/Graph_1\"\n",
    "\n",
    "# Load the file\n",
    "if os.path.isfile(binecode_path):\n",
    "    g1 = Graph.load_from_file(binecode_path)\n",
    "    print(g1)\n",
    "else:\n",
    "    print(f\"File does not exist: {binecode_path}\")\n",
    "\n",
    "# Run a community detection algorithm which checks lcc in the graph\n",
    "lcc =  rp.weakly_connected_components(g1)\n",
    "\n",
    "num_of_nodes_lcc = lcc.to_string()\n",
    "\n",
    "# Print the number of nodes inside lcc\n",
    "print(num_of_nodes_lcc)"
   ]
  },
  {
   "cell_type": "code",
   "execution_count": 1,
   "metadata": {},
   "outputs": [
    {
     "name": "stdout",
     "output_type": "stream",
     "text": [
      "Graph(number_of_edges=141292, number_of_vertices=33313, number_of_temporal_edges=237055559, earliest_time=\"28800000\", latest_time=\"32399999\")\n",
      "Algorithm Name: Connected Components, Number of Vertices: 33313, Result Type: std::collections::hash::map::HashMap<alloc::string::String, u64>\n"
     ]
    }
   ],
   "source": [
    "import os\n",
    "from raphtory import Graph\n",
    "from raphtory import algorithms as rp\n",
    "\n",
    "# Specify the file path\n",
    "binecode_path = \"C:/ms_bincode/Graph_9\"\n",
    "\n",
    "# Load the file\n",
    "if os.path.isfile(binecode_path):\n",
    "    g9 = Graph.load_from_file(binecode_path)\n",
    "    print(g9)\n",
    "else:\n",
    "    print(f\"File does not exist: {binecode_path}\")\n",
    "\n",
    "# Run a community detection algorithm which checks lcc in the graph\n",
    "lcc =  rp.weakly_connected_components(g9)\n",
    "\n",
    "num_of_nodes_lcc = lcc.to_string()\n",
    "\n",
    "# Print the number of nodes inside lcc\n",
    "print(num_of_nodes_lcc)"
   ]
  },
  {
   "cell_type": "code",
   "execution_count": 2,
   "metadata": {},
   "outputs": [
    {
     "name": "stdout",
     "output_type": "stream",
     "text": [
      "Graph(number_of_edges=150531, number_of_vertices=34772, number_of_temporal_edges=272189086, earliest_time=\"72000000\", latest_time=\"75599999\")\n",
      "Algorithm Name: Connected Components, Number of Vertices: 34772, Result Type: std::collections::hash::map::HashMap<alloc::string::String, u64>\n"
     ]
    }
   ],
   "source": [
    "import os\n",
    "from raphtory import Graph\n",
    "from raphtory import algorithms as rp\n",
    "\n",
    "# Specify the file path\n",
    "binecode_path = \"C:/ms_bincode/Graph_21\"\n",
    "\n",
    "# Load the file\n",
    "if os.path.isfile(binecode_path):\n",
    "    g21 = Graph.load_from_file(binecode_path)\n",
    "    print(g21)\n",
    "else:\n",
    "    print(f\"File does not exist: {binecode_path}\")\n",
    "\n",
    "# Run a community detection algorithm which checks lcc in the graph\n",
    "lcc =  rp.weakly_connected_components(g21)\n",
    "\n",
    "num_of_nodes_lcc = lcc.to_string()\n",
    "\n",
    "# Print the number of nodes inside lcc\n",
    "print(num_of_nodes_lcc)"
   ]
  },
  {
   "cell_type": "markdown",
   "metadata": {},
   "source": [
    "# Based on the findings above, the number of vertices in the LCC would always be identical to the graph’s number of vertices. This is not a surprise as the overall architecture is a tree, meaning that all nodes will be connected."
   ]
  }
 ],
 "metadata": {
  "kernelspec": {
   "display_name": "Python 3",
   "language": "python",
   "name": "python3"
  },
  "language_info": {
   "codemirror_mode": {
    "name": "ipython",
    "version": 3
   },
   "file_extension": ".py",
   "mimetype": "text/x-python",
   "name": "python",
   "nbconvert_exporter": "python",
   "pygments_lexer": "ipython3",
   "version": "3.11.0"
  }
 },
 "nbformat": 4,
 "nbformat_minor": 2
}
