{
 "cells": [
  {
   "cell_type": "code",
   "execution_count": 1,
   "metadata": {},
   "outputs": [
    {
     "ename": "ModuleNotFoundError",
     "evalue": "No module named 'temporal_diagrams'",
     "output_type": "error",
     "traceback": [
      "\u001b[1;31m---------------------------------------------------------------------------\u001b[0m",
      "\u001b[1;31mModuleNotFoundError\u001b[0m                       Traceback (most recent call last)",
      "Cell \u001b[1;32mIn[1], line 3\u001b[0m\n\u001b[0;32m      1\u001b[0m \u001b[38;5;66;03m# Import necessary libraries\u001b[39;00m\n\u001b[1;32m----> 3\u001b[0m \u001b[38;5;28;01mfrom\u001b[39;00m \u001b[38;5;21;01mtemporal_diagrams\u001b[39;00m \u001b[38;5;28;01mimport\u001b[39;00m plot_microservices_over_time\n",
      "\u001b[1;31mModuleNotFoundError\u001b[0m: No module named 'temporal_diagrams'"
     ]
    }
   ],
   "source": [
    "# Import necessary libraries\n",
    "\n",
    "from temporal_diagrams import plot_microservices_over_time\n"
   ]
  },
  {
   "cell_type": "code",
   "execution_count": 1,
   "metadata": {},
   "outputs": [],
   "source": [
    "# Initialise an empty list to store the graphs\n",
    "graphs = []"
   ]
  },
  {
   "cell_type": "code",
   "execution_count": 2,
   "metadata": {},
   "outputs": [],
   "source": [
    "import os\n",
    "from raphtory import Graph\n",
    "\n",
    "\n",
    "# Specify the file path\n",
    "binecode_path = \"C:/ms_bincode/Graph_1\"\n",
    "\n",
    "# Load the file\n",
    "if os.path.isfile(binecode_path):\n",
    "    g1 = Graph.load_from_file(binecode_path)\n",
    "    print(g1)\n",
    "else:\n",
    "    print(f\"File does not exist: {binecode_path}\")"
   ]
  },
  {
   "cell_type": "code",
   "execution_count": null,
   "metadata": {},
   "outputs": [
    {
     "name": "stdout",
     "output_type": "stream",
     "text": [
      "Graph(number_of_edges=105179, number_of_vertices=27804, number_of_temporal_edges=182540610, earliest_time=\"3600000\", latest_time=\"7199999\")\n"
     ]
    }
   ],
   "source": [
    "import os\n",
    "from raphtory import Graph\n",
    "\n",
    "\n",
    "# Specify the file path\n",
    "binecode_path = \"C:/ms_bincode/Graph_2\"\n",
    "\n",
    "# Load the file\n",
    "if os.path.isfile(binecode_path):\n",
    "    g2 = Graph.load_from_file(binecode_path)\n",
    "    print(g2)\n",
    "else:\n",
    "    print(f\"File does not exist: {binecode_path}\")"
   ]
  },
  {
   "cell_type": "code",
   "execution_count": null,
   "metadata": {},
   "outputs": [
    {
     "name": "stdout",
     "output_type": "stream",
     "text": [
      "Graph(number_of_edges=97252, number_of_vertices=26533, number_of_temporal_edges=159288593, earliest_time=\"7200000\", latest_time=\"10799999\")\n"
     ]
    }
   ],
   "source": [
    "import os\n",
    "from raphtory import Graph\n",
    "\n",
    "\n",
    "# Specify the file path\n",
    "binecode_path = \"C:/ms_bincode/Graph_3\"\n",
    "\n",
    "# Load the file\n",
    "if os.path.isfile(binecode_path):\n",
    "    g3 = Graph.load_from_file(binecode_path)\n",
    "    print(g3)\n",
    "else:\n",
    "    print(f\"File does not exist: {binecode_path}\")"
   ]
  },
  {
   "cell_type": "code",
   "execution_count": null,
   "metadata": {},
   "outputs": [
    {
     "name": "stdout",
     "output_type": "stream",
     "text": [
      "Graph(number_of_edges=91201, number_of_vertices=25666, number_of_temporal_edges=145486068, earliest_time=\"10800000\", latest_time=\"14399999\")\n"
     ]
    }
   ],
   "source": [
    "import os\n",
    "from raphtory import Graph\n",
    "\n",
    "\n",
    "# Specify the file path\n",
    "binecode_path = \"C:/ms_bincode/Graph_4\"\n",
    "\n",
    "# Load the file\n",
    "if os.path.isfile(binecode_path):\n",
    "    g4 = Graph.load_from_file(binecode_path)\n",
    "    print(g4)\n",
    "else:\n",
    "    print(f\"File does not exist: {binecode_path}\")"
   ]
  },
  {
   "cell_type": "code",
   "execution_count": null,
   "metadata": {},
   "outputs": [
    {
     "name": "stdout",
     "output_type": "stream",
     "text": [
      "Graph(number_of_edges=91131, number_of_vertices=25648, number_of_temporal_edges=144899593, earliest_time=\"14400000\", latest_time=\"17999999\")\n"
     ]
    }
   ],
   "source": [
    "import os\n",
    "from raphtory import Graph\n",
    "\n",
    "\n",
    "# Specify the file path\n",
    "binecode_path = \"C:/ms_bincode/Graph_5\"\n",
    "\n",
    "# Load the file\n",
    "if os.path.isfile(binecode_path):\n",
    "    g5 = Graph.load_from_file(binecode_path)\n",
    "    print(g5)\n",
    "else:\n",
    "    print(f\"File does not exist: {binecode_path}\")"
   ]
  },
  {
   "cell_type": "code",
   "execution_count": null,
   "metadata": {},
   "outputs": [],
   "source": [
    "import os\n",
    "from raphtory import Graph\n",
    "\n",
    "\n",
    "# Specify the file path\n",
    "binecode_path = \"C:/ms_bincode/Graph_6\"\n",
    "\n",
    "# Load the file\n",
    "if os.path.isfile(binecode_path):\n",
    "    g6 = Graph.load_from_file(binecode_path)\n",
    "    print(g6)\n",
    "else:\n",
    "    print(f\"File does not exist: {binecode_path}\")"
   ]
  },
  {
   "cell_type": "code",
   "execution_count": null,
   "metadata": {},
   "outputs": [],
   "source": [
    "import os\n",
    "from raphtory import Graph\n",
    "\n",
    "\n",
    "# Specify the file path\n",
    "binecode_path = \"C:/ms_bincode/Graph_7\"\n",
    "\n",
    "# Load the file\n",
    "if os.path.isfile(binecode_path):\n",
    "    g7 = Graph.load_from_file(binecode_path)\n",
    "    print(g7)\n",
    "else:\n",
    "    print(f\"File does not exist: {binecode_path}\")"
   ]
  },
  {
   "cell_type": "code",
   "execution_count": null,
   "metadata": {},
   "outputs": [],
   "source": [
    "import os\n",
    "from raphtory import Graph\n",
    "\n",
    "\n",
    "# Specify the file path\n",
    "binecode_path = \"C:/ms_bincode/Graph_8\"\n",
    "\n",
    "# Load the file\n",
    "if os.path.isfile(binecode_path):\n",
    "    g8 = Graph.load_from_file(binecode_path)\n",
    "    print(g8)\n",
    "else:\n",
    "    print(f\"File does not exist: {binecode_path}\")"
   ]
  },
  {
   "cell_type": "code",
   "execution_count": null,
   "metadata": {},
   "outputs": [],
   "source": [
    "import os\n",
    "from raphtory import Graph\n",
    "\n",
    "\n",
    "# Specify the file path\n",
    "binecode_path = \"C:/ms_bincode/Graph_9\"\n",
    "\n",
    "# Load the file\n",
    "if os.path.isfile(binecode_path):\n",
    "    g9 = Graph.load_from_file(binecode_path)\n",
    "    print(g9)\n",
    "else:\n",
    "    print(f\"File does not exist: {binecode_path}\")"
   ]
  },
  {
   "cell_type": "code",
   "execution_count": null,
   "metadata": {},
   "outputs": [],
   "source": [
    "import os\n",
    "from raphtory import Graph\n",
    "\n",
    "\n",
    "# Specify the file path\n",
    "binecode_path = \"C:/ms_bincode/Graph_10\"\n",
    "\n",
    "# Load the file\n",
    "if os.path.isfile(binecode_path):\n",
    "    g10 = Graph.load_from_file(binecode_path)\n",
    "    print(g10)\n",
    "else:\n",
    "    print(f\"File does not exist: {binecode_path}\")"
   ]
  },
  {
   "cell_type": "code",
   "execution_count": null,
   "metadata": {},
   "outputs": [],
   "source": [
    "import os\n",
    "from raphtory import Graph\n",
    "\n",
    "\n",
    "# Specify the file path\n",
    "binecode_path = \"C:/ms_bincode/Graph_11\"\n",
    "\n",
    "# Load the file\n",
    "if os.path.isfile(binecode_path):\n",
    "    g11 = Graph.load_from_file(binecode_path)\n",
    "    print(g11)\n",
    "else:\n",
    "    print(f\"File does not exist: {binecode_path}\")"
   ]
  },
  {
   "cell_type": "code",
   "execution_count": null,
   "metadata": {},
   "outputs": [],
   "source": [
    "import os\n",
    "from raphtory import Graph\n",
    "\n",
    "\n",
    "# Specify the file path\n",
    "binecode_path = \"C:/ms_bincode/Graph_12\"\n",
    "\n",
    "# Load the file\n",
    "if os.path.isfile(binecode_path):\n",
    "    g12 = Graph.load_from_file(binecode_path)\n",
    "    print(g12)\n",
    "else:\n",
    "    print(f\"File does not exist: {binecode_path}\")"
   ]
  },
  {
   "cell_type": "code",
   "execution_count": null,
   "metadata": {},
   "outputs": [],
   "source": [
    "import os\n",
    "from raphtory import Graph\n",
    "\n",
    "\n",
    "# Specify the file path\n",
    "binecode_path = \"C:/ms_bincode/Graph_13\"\n",
    "\n",
    "# Load the file\n",
    "if os.path.isfile(binecode_path):\n",
    "    g13 = Graph.load_from_file(binecode_path)\n",
    "    print(g13)\n",
    "else:\n",
    "    print(f\"File does not exist: {binecode_path}\")"
   ]
  },
  {
   "cell_type": "code",
   "execution_count": null,
   "metadata": {},
   "outputs": [],
   "source": [
    "import os\n",
    "from raphtory import Graph\n",
    "\n",
    "\n",
    "# Specify the file path\n",
    "binecode_path = \"D:/Graph_14\"\n",
    "\n",
    "# Load the file\n",
    "if os.path.isfile(binecode_path):\n",
    "    g14 = Graph.load_from_file(binecode_path)\n",
    "    print(g14)\n",
    "else:\n",
    "    print(f\"File does not exist: {binecode_path}\")"
   ]
  },
  {
   "cell_type": "code",
   "execution_count": null,
   "metadata": {},
   "outputs": [],
   "source": [
    "import os\n",
    "from raphtory import Graph\n",
    "\n",
    "\n",
    "# Specify the file path\n",
    "binecode_path = \"D:/Graph_15\"\n",
    "\n",
    "# Load the file\n",
    "if os.path.isfile(binecode_path):\n",
    "    g15 = Graph.load_from_file(binecode_path)\n",
    "    print(g15)\n",
    "else:\n",
    "    print(f\"File does not exist: {binecode_path}\")"
   ]
  },
  {
   "cell_type": "code",
   "execution_count": null,
   "metadata": {},
   "outputs": [],
   "source": [
    "import os\n",
    "from raphtory import Graph\n",
    "\n",
    "\n",
    "# Specify the file path\n",
    "binecode_path = \"D:/Graph_16\"\n",
    "\n",
    "# Load the file\n",
    "if os.path.isfile(binecode_path):\n",
    "    g16 = Graph.load_from_file(binecode_path)\n",
    "    print(g16)\n",
    "else:\n",
    "    print(f\"File does not exist: {binecode_path}\")"
   ]
  },
  {
   "cell_type": "code",
   "execution_count": null,
   "metadata": {},
   "outputs": [],
   "source": [
    "import os\n",
    "from raphtory import Graph\n",
    "\n",
    "\n",
    "# Specify the file path\n",
    "binecode_path = \"C:/ms_bincode/Graph_17\"\n",
    "\n",
    "# Load the file\n",
    "if os.path.isfile(binecode_path):\n",
    "    g17 = Graph.load_from_file(binecode_path)\n",
    "    print(g17)\n",
    "else:\n",
    "    print(f\"File does not exist: {binecode_path}\")"
   ]
  },
  {
   "cell_type": "code",
   "execution_count": null,
   "metadata": {},
   "outputs": [],
   "source": [
    "import os\n",
    "from raphtory import Graph\n",
    "\n",
    "\n",
    "# Specify the file path\n",
    "binecode_path = \"C:/ms_bincode/Graph_18\"\n",
    "\n",
    "# Load the file\n",
    "if os.path.isfile(binecode_path):\n",
    "    g18 = Graph.load_from_file(binecode_path)\n",
    "    print(g18)\n",
    "else:\n",
    "    print(f\"File does not exist: {binecode_path}\")"
   ]
  },
  {
   "cell_type": "code",
   "execution_count": null,
   "metadata": {},
   "outputs": [],
   "source": [
    "import os\n",
    "from raphtory import Graph\n",
    "\n",
    "\n",
    "# Specify the file path\n",
    "binecode_path = \"C:/ms_bincode/Graph_19\"\n",
    "\n",
    "# Load the file\n",
    "if os.path.isfile(binecode_path):\n",
    "    g19 = Graph.load_from_file(binecode_path)\n",
    "    print(g19)\n",
    "else:\n",
    "    print(f\"File does not exist: {binecode_path}\")"
   ]
  },
  {
   "cell_type": "code",
   "execution_count": null,
   "metadata": {},
   "outputs": [],
   "source": [
    "import os\n",
    "from raphtory import Graph\n",
    "\n",
    "\n",
    "# Specify the file path\n",
    "binecode_path = \"C:/ms_bincode/Graph_20\"\n",
    "\n",
    "# Load the file\n",
    "if os.path.isfile(binecode_path):\n",
    "    g20 = Graph.load_from_file(binecode_path)\n",
    "    print(g20)\n",
    "else:\n",
    "    print(f\"File does not exist: {binecode_path}\")"
   ]
  },
  {
   "cell_type": "code",
   "execution_count": null,
   "metadata": {},
   "outputs": [],
   "source": [
    "import os\n",
    "from raphtory import Graph\n",
    "\n",
    "\n",
    "# Specify the file path\n",
    "binecode_path = \"C:/ms_bincode/Graph_21\"\n",
    "\n",
    "# Load the file\n",
    "if os.path.isfile(binecode_path):\n",
    "    g21 = Graph.load_from_file(binecode_path)\n",
    "    print(g21)\n",
    "else:\n",
    "    print(f\"File does not exist: {binecode_path}\")"
   ]
  },
  {
   "cell_type": "code",
   "execution_count": null,
   "metadata": {},
   "outputs": [],
   "source": [
    "import os\n",
    "from raphtory import Graph\n",
    "\n",
    "\n",
    "# Specify the file path\n",
    "binecode_path = \"C:/ms_bincode/Graph_22\"\n",
    "\n",
    "# Load the file\n",
    "if os.path.isfile(binecode_path):\n",
    "    g22 = Graph.load_from_file(binecode_path)\n",
    "    print(g22)\n",
    "else:\n",
    "    print(f\"File does not exist: {binecode_path}\")"
   ]
  },
  {
   "cell_type": "code",
   "execution_count": null,
   "metadata": {},
   "outputs": [],
   "source": [
    "import os\n",
    "from raphtory import Graph\n",
    "\n",
    "\n",
    "# Specify the file path\n",
    "binecode_path = \"C:/ms_bincode/Graph_23\"\n",
    "\n",
    "# Load the file\n",
    "if os.path.isfile(binecode_path):\n",
    "    g23 = Graph.load_from_file(binecode_path)\n",
    "    print(g23)\n",
    "else:\n",
    "    print(f\"File does not exist: {binecode_path}\")"
   ]
  },
  {
   "cell_type": "code",
   "execution_count": null,
   "metadata": {},
   "outputs": [],
   "source": [
    "import os\n",
    "from raphtory import Graph\n",
    "\n",
    "\n",
    "# Specify the file path\n",
    "binecode_path = \"C:/ms_bincode/Graph_24\"\n",
    "\n",
    "# Load the file\n",
    "if os.path.isfile(binecode_path):\n",
    "    g24 = Graph.load_from_file(binecode_path)\n",
    "    print(g24)\n",
    "else:\n",
    "    print(f\"File does not exist: {binecode_path}\")"
   ]
  },
  {
   "cell_type": "code",
   "execution_count": null,
   "metadata": {},
   "outputs": [],
   "source": [
    "import matplotlib.pyplot as plt\n",
    "import pandas as pd\n",
    "from raphtory import algorithms as rp\n",
    "from raphtory import Graph\n",
    "\n",
    "# Set the window sizes\n",
    "window_sizes = [30000, 60000, 600000, 3600000]\n",
    "\n",
    "# Labels for the legend\n",
    "window_labels = ['30 seconds', '1 minute', '10 minutes', '1 hour']\n",
    "\n",
    "# Initialise the plot with a set size\n",
    "plt.figure(figsize=(12,5))\n",
    "\n",
    "# Iterate over each window size\n",
    "for window_size, label in zip(window_sizes, window_labels):\n",
    "    num_nodes = []\n",
    "    time = []\n",
    "    # Iterate over each graph in the list\n",
    "    for g in graphs:\n",
    "        for windowed_graph in g.rolling(window=window_size):\n",
    "            result = windowed_graph.count_vertices()\n",
    "            num_nodes.append(result)\n",
    "            time.append(windowed_graph.earliest_time / 3600000)\n",
    "    \n",
    "    # Plot the data for the current window size with a unique label\n",
    "    plt.plot(time, num_nodes, label=label)\n",
    "\n",
    "# Apply customizations\n",
    "plt.xlabel(\"Time (hours)\")\n",
    "plt.ylabel(\"Number of microservices\")\n",
    "plt.title(\"Amount of Alibaba's microservices over time\")\n",
    "\n",
    "# Add the legend to the plot\n",
    "plt.legend()\n",
    "\n",
    "# Display the plot\n",
    "plt.show()"
   ]
  },
  {
   "cell_type": "code",
   "execution_count": null,
   "metadata": {},
   "outputs": [],
   "source": [
    "import matplotlib.pyplot as plt\n",
    "import pandas as pd\n",
    "from raphtory import algorithms as rp\n",
    "from raphtory import Graph\n",
    "\n",
    "# Set the window sizes\n",
    "window_sizes = [30000, 60000, 600000, 3600000]\n",
    "\n",
    "# Labels for the legend\n",
    "window_labels = ['30 seconds', '1 minute', '10 minutes', '1 hour']\n",
    "\n",
    "# Initialise the plot with a set size\n",
    "plt.figure(figsize=(12,5))\n",
    "\n",
    "# Iterate over each window size\n",
    "for window_size, label in zip(window_sizes, window_labels):\n",
    "    avg_degree = []\n",
    "    time = []\n",
    "    # Iterate over each graph in the list\n",
    "    for g in graphs:\n",
    "        for windowed_graph in g.rolling(window=window_size):\n",
    "            result = windowed_graph.count_vertices()\n",
    "            avg_degree.append(result)\n",
    "            time.append(windowed_graph.earliest_time / 3600000)\n",
    "    \n",
    "    # Plot the data for the current window size with a unique label\n",
    "    plt.plot(time, avg_degree, label=label)\n",
    "\n",
    "# Apply customizations\n",
    "plt.xlabel(\"Time (hours)\")\n",
    "plt.ylabel(\"Degree\")\n",
    "plt.title(\"Average degree over time\")\n",
    "\n",
    "# Add the legend to the plot\n",
    "plt.legend()\n",
    "\n",
    "# Display the plot\n",
    "plt.show()"
   ]
  }
 ],
 "metadata": {
  "kernelspec": {
   "display_name": "Python 3",
   "language": "python",
   "name": "python3"
  },
  "language_info": {
   "codemirror_mode": {
    "name": "ipython",
    "version": 3
   },
   "file_extension": ".py",
   "mimetype": "text/x-python",
   "name": "python",
   "nbconvert_exporter": "python",
   "pygments_lexer": "ipython3",
   "version": "3.11.0"
  }
 },
 "nbformat": 4,
 "nbformat_minor": 2
}
