{
 "cells": [
  {
   "cell_type": "code",
   "execution_count": 1,
   "metadata": {},
   "outputs": [
    {
     "name": "stdout",
     "output_type": "stream",
     "text": [
      "Graph(number_of_edges=97252, number_of_vertices=26533, number_of_temporal_edges=159288593, earliest_time=\"7200000\", latest_time=\"10799999\")\n"
     ]
    }
   ],
   "source": [
    "import os\n",
    "from raphtory import Graph\n",
    "\n",
    "# Specify the file path\n",
    "binecode_path = \"C:/ms_bincode/Graph_3\"\n",
    "\n",
    "# Load the file\n",
    "if os.path.isfile(binecode_path):\n",
    "    g = Graph.load_from_file(binecode_path)\n",
    "    print(g)\n",
    "else:\n",
    "    print(f\"File does not exist: {binecode_path}\")"
   ]
  },
  {
   "cell_type": "markdown",
   "metadata": {},
   "source": [
    "# -------------"
   ]
  },
  {
   "cell_type": "code",
   "execution_count": 12,
   "metadata": {},
   "outputs": [
    {
     "name": "stdout",
     "output_type": "stream",
     "text": [
      "Graph(number_of_edges=30942, number_of_vertices=11973, number_of_temporal_edges=4989406, earliest_time=\"7800000\", latest_time=\"7919999\")\n"
     ]
    }
   ],
   "source": [
    "from raphtory import algorithms as rp\n",
    "from raphtory import Graph\n",
    "\n",
    "start_time = 7800000 # Minute 130\n",
    "end_time = 7800000 + 120000 # Minute 132\n",
    "\n",
    "g_no_spike = g.window(start_time, end_time)\n",
    "\n",
    "print(g_no_spike)"
   ]
  },
  {
   "cell_type": "code",
   "execution_count": 13,
   "metadata": {},
   "outputs": [
    {
     "name": "stdout",
     "output_type": "stream",
     "text": [
      "USER\n",
      "['MS_27239', 'MS_15934', 'MS_30441', 'MS_50519', 'MS_54249', 'MS_53154', 'MS_8099', 'MS_42200', 'MS_70289', 'MS_70299', 'MS_65043', 'MS_63670', 'MS_43781', 'MS_67211', 'MS_41385', 'MS_71432', 'MS_3386', 'MS_24778', 'MS_29370', 'MS_9570', 'MS_22187', 'MS_65235', 'MS_17117', 'MS_56394', 'MS_63434', 'MS_9772', 'MS_67860', 'MS_39324', 'MS_15296', 'MS_37575', 'MS_25190', 'MS_26075', 'MS_57018', 'MS_61128', 'MS_29844', 'MS_57682', 'MS_5075', 'MS_58017', 'MS_71138', 'MS_72966', 'MS_56298', 'MS_67455', 'MS_70930', 'MS_57649', 'MS_55290', 'MS_71712', 'MS_5449', 'MS_69638', 'MS_21451', 'MS_62414', 'MS_22997', 'MS_60842', 'MS_29435', 'MS_73326', 'MS_5031', 'MS_64287', 'MS_60350', 'MS_51682', 'MS_15284', 'MS_53926', 'MS_69065', 'MS_19881', 'MS_71990', 'MS_48488', 'MS_27747', 'MS_42683', 'MS_69576', 'MS_60167', 'MS_19017', 'MS_25633', 'MS_52678', 'MS_19630', 'MS_634', 'MS_2000', 'MS_46970', 'MS_48689', 'MS_62344', 'MS_64726', 'MS_50735', 'MS_66427', 'MS_66495', 'MS_27021', 'MS_18330', 'MS_63630', 'MS_69708', 'MS_27536', 'MS_68888', 'MS_25043', 'MS_43235', 'MS_40503', 'MS_42416', 'MS_39299', 'MS_28214', 'MS_15191', 'MS_54214', 'MS_43524', 'MS_16178', 'MS_36535', 'MS_37235', 'MS_32271', 'MS_7912', 'MS_40967', 'MS_46420', 'MS_10207', 'MS_7941', 'MS_47974', 'MS_895', 'MS_50411', 'MS_50341', 'MS_9934', 'MS_11851', 'MS_5122', 'MS_63682', 'MS_71081', 'MS_50430', 'MS_182', 'MS_1732', 'MS_19279', 'MS_54372', 'MS_6616', 'MS_16235', 'MS_32255', 'MS_15600', 'MS_30021', 'MS_69503', 'MS_13157', 'MS_36132', 'MS_2842', 'MS_40787', 'MS_64352', 'MS_49008', 'MS_29407', 'MS_53788', 'MS_15819', 'MS_73365', 'MS_5786', 'MS_18927', 'MS_27459', 'MS_55040', 'MS_44252', 'MS_10779', 'MS_43806', 'MS_67364', 'MS_35501', 'MS_52993', 'MS_36285', 'MS_53940', 'MS_48031', 'MS_31283', 'MS_21733', 'MS_3250', 'MS_49617', 'MS_41700', 'MS_23465', 'MS_22429', 'MS_26370', 'MS_33839', 'MS_25409', 'MS_16735', 'MS_15135', 'MS_39594', 'MS_26230', 'MS_48390', 'MS_20196', 'MS_25004', 'MS_43621', 'MS_58582', 'MS_7951', 'MS_47349', 'MS_1121', 'MS_37302', 'MS_49759', 'MS_4775', 'MS_40878', 'MS_67592', 'MS_30539', 'MS_51863', 'MS_1401', 'MS_58809', 'MS_38060', 'MS_1740', 'MS_46369', 'MS_70153', 'MS_71888', 'MS_29535', 'MS_68183', 'MS_9105', 'MS_58804', 'MS_14382', 'MS_16143', 'MS_23256', 'MS_35068', 'MS_37503', 'MS_53377', 'MS_22179', 'MS_72115', 'MS_59', 'MS_15288', 'MS_37962', 'MS_2621', 'MS_27390', 'MS_26433', 'MS_60789', 'MS_3351', 'MS_46584', 'MS_60882', 'MS_1433', 'MS_61055', 'MS_13873', 'MS_46208', 'MS_48247', 'MS_39492', 'MS_51779', 'MS_28840', 'MS_5322', 'MS_11070', 'MS_27763', 'MS_55474', 'MS_54952', 'MS_9271', 'MS_59450', 'MS_11154', 'MS_16396', 'MS_60792', 'MS_66733', 'MS_57045', 'MS_12928', 'MS_22973', 'MS_34653', 'MS_27905', 'MS_31667', 'MS_6635', 'MS_30451', 'MS_8559', 'MS_36498', 'MS_69006', 'MS_51980', 'MS_47656', 'MS_24120', 'MS_32171', 'MS_18249', 'MS_57887', 'MS_59255', 'MS_48517', 'MS_50685', 'MS_10733', 'MS_59099', 'MS_36879', 'MS_43575', 'MS_36144', 'MS_20871', 'MS_70424', 'MS_40950', 'MS_6307', 'MS_35070', 'MS_6625', 'MS_3891', 'MS_44043', 'MS_52059', 'MS_4660', 'MS_71843', 'MS_7092', 'MS_70648', 'MS_69188', 'MS_61032', 'MS_20951', 'MS_30759', 'MS_13731', 'MS_69813', 'MS_25557', 'MS_66473', 'MS_3657', 'MS_9537', 'MS_27735', 'MS_68048', 'MS_34372', 'MS_34031', 'MS_72719', 'MS_37183', 'MS_54559', 'MS_1076', 'MS_42989', 'MS_32398', 'MS_18223', 'MS_55431', 'MS_63403', 'MS_58365', 'MS_500', 'MS_11415', 'MS_6226', 'MS_46540', 'MS_36042', 'MS_68166', 'MS_36242', 'MS_53198', 'MS_63295', 'MS_50265', 'MS_41271', 'MS_67767', 'MS_72257', 'MS_70604', 'MS_30554', 'MS_18911', 'MS_29128', 'MS_28784', 'MS_3736', 'MS_23806', 'MS_50804', 'MS_264', 'MS_6081', 'MS_7153', 'MS_43537', 'MS_46718', 'MS_34145', 'MS_29405', 'MS_64901', 'MS_48494', 'MS_16514', 'MS_46634', 'MS_18951', 'MS_57915', 'MS_59937', 'MS_5766', 'MS_7818', 'MS_52981', 'MS_71149', 'MS_8444', 'MS_39175', 'MS_55441', 'MS_9796', 'MS_62860', 'MS_23421', 'MS_1706', 'MS_49981', 'MS_6933', 'MS_38411', 'MS_23947', 'MS_16558', 'MS_57945', 'MS_62964', 'MS_44724', 'MS_10701', 'MS_69725', 'MS_38752', 'MS_42046', 'MS_13361', 'MS_46079', 'MS_12990', 'MS_68238', 'MS_18801', 'MS_55302', 'MS_22414', 'MS_72767', 'MS_8565', 'MS_33136', 'MS_1117', 'MS_16249', 'MS_68220', 'MS_50809', 'MS_52149', 'MS_58312', 'MS_26282', 'MS_26809', 'MS_39614', 'MS_25457', 'MS_69074', 'MS_23655', 'MS_69561', 'MS_5182', 'MS_31369', 'MS_7499', 'MS_53033', 'MS_47890', 'MS_66744', 'MS_2140', 'MS_40139', 'MS_30395', 'MS_19222', 'MS_59645', 'MS_37027', 'MS_65331', 'MS_27776', 'MS_21872', 'MS_21224', 'MS_11564', 'MS_69242', 'MS_63169', 'MS_40423', 'MS_27990', 'MS_40271', 'MS_3436', 'MS_2214', 'MS_24229', 'MS_50718', 'MS_25829', 'MS_72891', 'MS_71756', 'MS_9872', 'MS_52740', 'MS_1415', 'MS_69235', 'MS_5692', 'MS_13378', 'MS_59090', 'MS_43110', 'MS_21003', 'MS_73082', 'MS_35093', 'MS_66858', 'MS_23063', 'MS_9444', 'MS_56195', 'MS_21732', 'MS_12602', 'MS_23984', 'MS_53267', 'MS_12086', 'MS_21551', 'MS_43832', 'MS_17592', 'MS_8536', 'MS_15042', 'MS_58882', 'MS_44657', 'MS_57287', 'MS_56653', 'MS_20116', 'MS_44829', 'MS_61817', 'MS_39562', 'MS_8589', 'MS_51237', 'MS_45172', 'MS_20616', 'MS_8610', 'MS_57214', 'MS_71673', 'MS_4627', 'MS_58780', 'MS_17571', 'MS_52835', 'MS_45218', 'MS_46611', 'MS_13897', 'MS_58994', 'MS_1239', 'MS_64907', 'MS_57613', 'MS_62154', 'MS_31931', 'MS_70174', 'MS_26039', 'MS_23619', 'MS_45870', 'MS_72735', 'MS_28691', 'MS_2217', 'MS_389', 'MS_30239', 'MS_61298', 'MS_29269', 'MS_36462', 'MS_63918', 'MS_23140', 'MS_45367', 'MS_11745', 'MS_30983', 'MS_41692', 'MS_14628', 'MS_17754', 'MS_64329', 'MS_24609', 'MS_18473', 'MS_23119', 'MS_36778', 'MS_61336', 'MS_31569', 'MS_6561', 'MS_36025', 'MS_50849', 'MS_47144', 'MS_6751', 'MS_50417', 'MS_37237', 'MS_52517', 'MS_26315', 'MS_33461', 'MS_8207', 'MS_69929', 'MS_23935', 'MS_28352', 'MS_47481', 'MS_27236', 'MS_29528', 'MS_55889', 'MS_4770', 'MS_10197', 'MS_38739', 'MS_1358', 'MS_39695', 'MS_44882', 'MS_24132', 'MS_7798', 'MS_13613', 'MS_60759', 'MS_64551', 'MS_10927', 'MS_26124', 'MS_1079', 'MS_52097', 'MS_44351', 'MS_47558', 'MS_23571', 'MS_6379', 'MS_59990', 'MS_17253', 'MS_64368', 'MS_26088', 'MS_18715', 'MS_43952', 'MS_43283', 'MS_62585', 'MS_61845', 'MS_21001', 'MS_66971', 'MS_44325', 'MS_23386', 'MS_43758', 'MS_6464', 'MS_51362', 'MS_71211', 'MS_31065', 'MS_36819', 'MS_11235', 'MS_59363', 'MS_63587', 'MS_25006', 'MS_65806', 'MS_51267', 'MS_10762', 'MS_33739', 'MS_5992', 'MS_25626', 'MS_72270', 'MS_5270', 'MS_52939', 'MS_45058', 'MS_35603', 'MS_54707', 'MS_71878', 'MS_34449', 'MS_7418', 'MS_52925', 'MS_8607', 'MS_2597', 'MS_6927', 'MS_70160', 'MS_22805', 'MS_5646', 'MS_58295', 'MS_33231', 'MS_38284', 'MS_40518', 'MS_53030', 'MS_5977', 'MS_6770', 'MS_49273', 'MS_2971', 'MS_22761', 'MS_8616', 'MS_17703', 'MS_49650', 'MS_71617', 'MS_50442', 'MS_61776', 'MS_1500', 'MS_37748', 'MS_17613', 'MS_41342', 'MS_62952', 'MS_47433', 'MS_58151', 'MS_68435', 'MS_27725', 'MS_32877', 'MS_20757', 'MS_14244', 'MS_65938', 'MS_34290', 'MS_35360', 'MS_31915', 'MS_62635', 'MS_41983', 'MS_68736', 'MS_1786', 'MS_52921', 'MS_63543', 'MS_27231', 'MS_1210', 'MS_50471', 'MS_25492', 'MS_59497', 'MS_41215', 'MS_967', 'MS_20272', 'MS_41974', 'MS_14201', 'MS_72610', 'MS_37722', 'MS_46278', 'MS_16813', 'MS_67509', 'MS_68160', 'MS_67165', 'MS_54716', 'MS_68329', 'MS_2594', 'MS_33798', 'MS_10259', 'MS_62830', 'MS_67599', 'MS_65551', 'MS_39819', 'MS_64954', 'MS_59549', 'MS_71189', 'MS_8644', 'MS_64290', 'MS_50024', 'MS_48745', 'MS_18043', 'MS_38784', 'MS_38790', 'MS_72058', 'MS_72209', 'MS_1404', 'MS_28892', 'MS_33444', 'MS_51090', 'MS_39027', 'MS_65374', 'MS_54615', 'MS_5762', 'MS_37286', 'MS_20957', 'MS_46405', 'MS_72715', 'MS_54771', 'MS_16836', 'MS_47503', 'MS_10111', 'MS_49890', 'MS_65060', 'MS_56735', 'MS_18375', 'MS_68128', 'MS_66815', 'MS_53598', 'MS_41961', 'MS_65555', 'MS_43654', 'MS_17977', 'MS_21793', 'MS_48001', 'MS_70675', 'MS_52924', 'MS_6610', 'MS_61595', 'MS_68630', 'MS_4681', 'MS_69155', 'MS_9546', 'MS_6692', 'MS_44073', 'MS_58145', 'MS_35500', 'MS_15808', 'MS_13516', 'MS_20909', 'MS_31826', 'MS_35286', 'MS_58828', 'MS_14871', 'MS_56628', 'MS_3276', 'MS_29321', 'MS_41021', 'MS_18796', 'MS_72322', 'MS_7270', 'MS_62942', 'MS_47249', 'MS_62209', 'MS_38298', 'MS_58698', 'MS_30747', 'MS_22988', 'MS_13421', 'MS_71496', 'MS_22588', 'MS_50581', 'MS_70216', 'MS_71656', 'MS_72253', 'MS_10299', 'MS_25951', 'MS_23651', 'MS_72224', 'MS_63827', 'MS_44333', 'MS_44150', 'MS_30966', 'MS_36770', 'MS_4540', 'MS_58383', 'MS_13541', 'MS_36865', 'MS_55936', 'MS_18130', 'MS_5395', 'MS_11463', 'MS_4119', 'MS_53252', 'MS_33502', 'MS_18803', 'MS_7511', 'MS_56210', 'MS_65011', 'MS_11061', 'MS_63912', 'MS_60235', 'MS_73109', 'MS_19063', 'MS_68070', 'MS_8144', 'MS_66124', 'MS_12815', 'MS_3809', 'MS_49830', 'MS_43473', 'MS_34364', 'MS_59653', 'MS_72683', 'MS_21929', 'MS_72927', 'MS_20156', 'MS_27242', 'MS_44285', 'MS_52612', 'MS_53544', 'MS_19522', 'MS_25771', 'MS_54984', 'MS_14860', 'MS_73207', 'MS_50505', 'MS_36542', 'MS_71872', 'MS_37527', 'MS_22661', 'MS_35461', 'MS_66201', 'MS_12524', 'MS_45020', 'MS_23509', 'MS_26262', 'MS_48444', 'MS_8777', 'MS_62129', 'MS_34831', 'MS_8068', 'MS_4562', 'MS_16749', 'MS_12952', 'MS_59032', 'MS_49204', 'MS_26400', 'MS_4797', 'MS_72070', 'MS_70488', 'MS_73418', 'MS_58185', 'MS_26787', 'MS_9010', 'MS_36250', 'MS_45059', 'MS_51992', 'MS_7362', 'MS_54116', 'MS_51020', 'MS_37340', 'MS_7711', 'MS_4323', 'MS_36942', 'MS_69331', 'MS_7803', 'MS_30935', 'MS_46468', 'MS_2091', 'MS_2087', 'MS_19986', 'MS_54024', 'MS_69756', 'MS_35751', 'MS_28194', 'MS_45384', 'MS_71340', 'MS_73382', 'MS_7070', 'MS_50600', 'MS_7723', 'MS_41019', 'MS_6551', 'MS_40647', 'MS_68616', 'MS_12868', 'MS_47122', 'MS_19769', 'MS_17942', 'MS_24169', 'MS_63658', 'MS_71976', 'MS_40551', 'MS_54353', 'MS_40015', 'MS_28527', 'MS_73309', 'MS_14305', 'MS_38118', 'MS_7517', 'MS_54444', 'MS_59556', 'MS_38977', 'MS_13818', 'MS_72020', 'MS_1709', 'MS_2471', 'MS_41375', 'MS_52908', 'MS_60516', 'MS_30082', 'MS_4277', 'MS_59236', 'MS_31235', 'MS_41050', 'MS_67487', 'MS_67167', 'MS_46974', 'MS_25011', 'MS_5232', 'MS_41350', 'MS_32193', 'MS_3466', 'MS_42276', 'MS_48776', 'MS_66896', 'MS_61187', 'MS_43364', 'MS_10541', 'MS_61761', 'MS_71663', 'MS_7093', 'MS_1745', 'MS_48777', 'MS_31612', 'MS_39246', 'MS_70832', 'MS_47703', 'MS_36179', 'MS_32984', 'MS_53044', 'MS_52172', 'MS_3981', 'MS_70052', 'MS_56763', 'MS_9364', 'MS_47953', 'MS_509', 'MS_8373', 'MS_16', 'MS_69150', 'MS_25632', 'MS_57724', 'MS_14026', 'MS_16494', 'MS_59385', 'MS_12847', 'MS_66219', 'MS_52166', 'MS_9554', 'MS_15276', 'MS_53695', 'MS_45451', 'MS_28895', 'MS_1950', 'MS_27699', 'MS_55740', 'MS_53308', 'MS_24958', 'MS_2070', 'MS_41008', 'MS_38617', 'MS_9698', 'MS_2811', 'MS_42199', 'MS_23055', 'MS_20518', 'MS_43512', 'MS_31410', 'MS_39358', 'MS_51490', 'MS_28909', 'MS_16944', 'MS_26214', 'MS_11654', 'MS_17804', 'MS_42218', 'MS_62793', 'MS_63614', 'MS_42142', 'MS_49476', 'MS_69', 'MS_66210', 'MS_7099', 'MS_48100', 'MS_25723', 'MS_58213', 'MS_22529', 'MS_24544', 'MS_5064', 'MS_39982', 'MS_31661', 'MS_71952', 'MS_62077', 'MS_45274', 'MS_9648', 'MS_14888', 'MS_22119', 'MS_48296', 'MS_46538', 'MS_8162', 'MS_20417', 'MS_52104', 'MS_51310', 'MS_39521', 'MS_70606', 'MS_21672', 'MS_72207', 'MS_63963', 'MS_29164', 'MS_66149', 'MS_16559', 'MS_26699', 'MS_52447', 'MS_9140', 'MS_25884', 'MS_47495', 'MS_10966', 'MS_48305', 'MS_18747', 'MS_19035', 'MS_37109', 'MS_33182', 'MS_21343', 'MS_74', 'MS_5105', 'MS_56323', 'MS_68937', 'MS_40100', 'MS_73347', 'MS_16816', 'MS_30359', 'MS_10023', 'MS_15906', 'MS_48127', 'MS_23307', 'MS_40165', 'MS_35129', 'MS_8601', 'MS_48669', 'MS_36637', 'MS_7396', 'MS_63648', 'MS_55416', 'MS_18825', 'MS_42547', 'MS_28400', 'MS_43273', 'MS_26339', 'MS_23553', 'MS_62243', 'MS_59434', 'MS_52250', 'MS_61330', 'MS_13368', 'MS_9767', 'MS_12005', 'MS_36782', 'MS_54900', 'MS_23080', 'MS_71407', 'MS_43835', 'MS_37645', 'MS_6374', 'MS_22599', 'MS_72335', 'MS_46046', 'MS_43027', 'MS_56181', 'MS_11083', 'MS_53947', 'MS_66139', 'MS_1153', 'MS_71738', 'MS_12651', 'MS_3756', 'MS_52441', 'MS_18642', 'MS_33967', 'MS_20618', 'MS_35339', 'MS_35346', 'MS_34141', 'MS_66847', 'MS_64769', 'MS_4552', 'MS_30549', 'MS_20908', 'MS_19003', 'MS_54179', 'MS_43248', 'MS_46461', 'MS_2910', 'MS_62314', 'MS_39935', 'MS_25513', 'MS_38811', 'MS_62628', 'MS_36941', 'MS_64905', 'MS_34850', 'MS_10537', 'MS_38964', 'MS_5630', 'MS_28103', 'MS_34466', 'MS_53490', 'MS_10531', 'MS_69016', 'MS_63541', 'MS_65978', 'MS_69754', 'MS_66610', 'MS_73133', 'MS_45656', 'MS_27988', 'MS_12230', 'MS_72334', 'MS_44636', 'MS_38099', 'MS_63508', 'MS_37261', 'MS_34155', 'MS_21315', 'MS_15763', 'MS_30213', 'MS_35618', 'MS_9119', 'MS_56760', 'MS_4563', 'MS_51599', 'MS_50591', 'MS_31390', 'MS_63917', 'MS_62420', 'MS_20394', 'MS_57747', 'MS_750', 'MS_2985', 'MS_50670', 'MS_1543', 'MS_27516', 'MS_20047', 'MS_60751', 'MS_19007', 'MS_31121', 'MS_42245', 'MS_21638', 'MS_6340', 'MS_61334', 'MS_13290', 'MS_37001', 'MS_6695', 'MS_22040', 'MS_8977', 'MS_65697', 'MS_15279', 'MS_46893', 'MS_31749', 'MS_56964', 'MS_70950', 'MS_68180', 'MS_37143', 'MS_55585', 'MS_35285', 'MS_28388', 'MS_9264', 'MS_32265', 'MS_29861', 'MS_67679', 'MS_53633', 'MS_9302', 'MS_48796', 'MS_36054', 'MS_69855', 'MS_55519', 'MS_61185', 'MS_30753', 'MS_56705', 'MS_4112', 'MS_38958', 'MS_59208', 'MS_34378', 'MS_73321', 'MS_44932', 'MS_68419', 'MS_33305', 'MS_36911', 'MS_64796', 'MS_57541', 'MS_18055', 'MS_48269', 'MS_12545', 'MS_5716', 'MS_11499', 'MS_14966', 'MS_30182', 'MS_25039', 'MS_72920', 'MS_59514', 'MS_6653', 'MS_13999', 'MS_18571', 'MS_37260', 'MS_53437', 'MS_41731', 'MS_27970', 'MS_53220', 'MS_68357', 'MS_6097', 'MS_61292', 'MS_21747', 'MS_28210', 'MS_46301', 'MS_31498', 'MS_30862', 'MS_26108', 'MS_51978', 'MS_59347', 'MS_69763', 'MS_67142', 'MS_40395', 'MS_26646', 'MS_41005', 'MS_59753', 'MS_21327', 'MS_59181', 'MS_12399', 'MS_59956', 'MS_50362', 'MS_41285', 'MS_58462', 'MS_56540', 'MS_65541', 'MS_23722', 'MS_62752', 'MS_46732', 'MS_43320', 'MS_39605', 'MS_72246', 'MS_46431', 'MS_9498', 'MS_21181', 'MS_15063', 'MS_63215', 'MS_55526', 'MS_52321', 'MS_56604', 'MS_36713', 'MS_65845', 'MS_41040', 'MS_11695', 'MS_6971', 'MS_14042', 'MS_27530', 'MS_1649', 'MS_10717', 'MS_71530', 'MS_62513', 'MS_57135', 'MS_40133', 'MS_66167', 'MS_62428', 'MS_33222', 'MS_45701', 'MS_28875', 'MS_72509', 'MS_54556', 'MS_26894', 'MS_65339', 'MS_38769', 'MS_58810', 'MS_17208', 'MS_21506', 'MS_9149', 'MS_24413', 'MS_36559', 'MS_7671', 'MS_38464', 'MS_68252', 'MS_20897', 'MS_63074', 'MS_51112', 'MS_11467', 'MS_28406', 'MS_17687', 'MS_57172', 'MS_35579', 'MS_54289', 'MS_24099', 'MS_3646', 'MS_18562', 'MS_24407', 'MS_28204', 'MS_830', 'MS_24627', 'MS_46987', 'MS_49373', 'MS_14243', 'MS_52669', 'MS_41083', 'MS_32118', 'MS_49618', 'MS_62595', 'MS_18426', 'MS_58451', 'MS_30929', 'MS_24493', 'MS_55293', 'MS_25563', 'MS_44991', 'MS_64186', 'MS_67534', 'MS_42460', 'MS_25780', 'MS_37621', 'MS_7724', 'MS_57506', 'MS_18097', 'MS_26354', 'MS_47706', 'MS_62776', 'MS_36536', 'MS_16908', 'MS_36230', 'MS_29910', 'MS_52958', 'MS_57709', 'MS_28107', 'MS_49383', 'MS_67479', 'MS_16997', 'MS_52694', 'MS_3692', 'MS_25219', 'MS_42039', 'MS_66983', 'MS_19180', 'MS_4387', 'MS_15210', 'MS_6923', 'MS_10673', 'MS_27868', 'MS_42778', 'MS_55478', 'MS_37997', 'MS_11715', 'MS_69783', 'MS_39375', 'MS_72874', 'MS_61849', 'MS_32631', 'MS_36276', 'MS_36612', 'MS_15418', 'MS_5319', 'MS_54101', 'MS_52805', 'MS_31787', 'MS_19262', 'MS_44451', 'MS_1287', 'MS_5028', 'MS_19492', 'MS_24794', 'MS_20621', 'MS_42876', 'MS_32270', 'MS_29174', 'MS_7379', 'MS_14366', 'MS_19497', 'MS_12781', 'MS_18438', 'MS_25088', 'MS_35947', 'MS_35970', 'MS_39173', 'MS_69209', 'MS_65716', 'MS_69697', 'MS_14301', 'MS_38470', 'MS_70026', 'MS_42440', 'MS_40444', 'MS_474', 'MS_61943', 'MS_28595', 'MS_69903', 'MS_50296', 'MS_2429', 'MS_31127', 'MS_4258', 'MS_51281', 'MS_27664', 'MS_37420', 'MS_25756', 'MS_27117', 'MS_10086', 'MS_39062', 'MS_17819', 'MS_70487', 'MS_13336', 'MS_2924', 'MS_2082', 'MS_23615', 'MS_58433', 'MS_10393', 'MS_63068', 'MS_15941', 'MS_43732', 'MS_35615', 'MS_8454', 'MS_39338', 'MS_23031', 'MS_44388', 'MS_60623', 'MS_27700', 'MS_141', 'MS_71478', 'MS_68801', 'MS_26104', 'MS_22891', 'MS_48344', 'MS_56073', 'MS_6193', 'MS_12241', 'MS_53325', 'MS_59505', 'MS_6009', 'MS_40315', 'MS_22143', 'MS_58242', 'MS_22423', 'MS_54869', 'MS_65774', 'MS_39503', 'MS_58405', 'MS_26491', 'MS_63999', 'MS_65094', 'MS_25033', 'MS_25663', 'MS_8693', 'MS_29542', 'MS_63938', 'MS_60881', 'MS_41840', 'MS_41176', 'MS_45822', 'MS_15218', 'MS_65635', 'MS_12987', 'MS_37104', 'MS_42568', 'MS_51259', 'MS_40197', 'MS_52689', 'MS_67680', 'MS_51274', 'MS_47618', 'MS_53019', 'MS_22330', 'MS_12424', 'MS_55448', 'MS_24469', 'MS_70258', 'MS_54748', 'MS_68986', 'MS_22937', 'MS_30298', 'MS_66463', 'MS_65899', 'MS_23909', 'MS_41387', 'MS_14827', 'MS_69483', 'MS_22882', 'MS_30219', 'MS_25935', 'MS_37526', 'MS_18062', 'MS_70043', 'MS_6624', 'MS_353', 'MS_29872', 'MS_72192', 'MS_12293', 'MS_1324', 'MS_44292', 'MS_57501', 'MS_55277', 'MS_56385', 'MS_43388', 'MS_18182', 'MS_3654', 'MS_30930', 'MS_43623', 'MS_69263', 'MS_68191', 'MS_49785', 'MS_39526', 'MS_24070', 'MS_52421', 'MS_39035', 'MS_19370', 'MS_46857', 'MS_50135', 'MS_27287', 'MS_67291', 'MS_3500', 'MS_49113', 'MS_40846', 'MS_68504', 'MS_26694', 'MS_56020', 'MS_59334', 'MS_17056', 'MS_23276', 'MS_38828', 'MS_51034', 'MS_52263', 'MS_38713', 'MS_13207', 'MS_37602', 'MS_53371', 'MS_24964', 'MS_22349', 'MS_33689', 'MS_21844', 'MS_71749', 'MS_57258', 'MS_71686', 'MS_51419', 'MS_39256', 'MS_11724', 'MS_45378', 'MS_6034', 'MS_21693', 'MS_68448', 'MS_21646', 'MS_46017', 'MS_34594', 'MS_42870', 'MS_71213', 'MS_9500', 'MS_47684', 'MS_63583', 'MS_10487', 'MS_31500', 'MS_71694', 'MS_16089', 'MS_31602', 'MS_37152', 'MS_49800', 'MS_8284', 'MS_48193', 'MS_31281', 'MS_69527', 'MS_16252', 'MS_30491', 'MS_63195', 'MS_13254', 'MS_65519', 'MS_72785', 'MS_7084', 'MS_66385', 'MS_27448', 'MS_40218', 'MS_26347', 'MS_70104', 'MS_25521', 'MS_31866', 'MS_32243', 'MS_6471', 'MS_3934', 'MS_48719', 'MS_10904', 'MS_49377', 'MS_20171', 'MS_58073', 'MS_61910', 'MS_4152', 'MS_35110', 'MS_4442', 'MS_2061', 'MS_65965', 'MS_19037', 'MS_436', 'MS_40037', 'MS_61968', 'MS_8218', 'MS_57871', 'MS_69098', 'MS_50814', 'MS_21476', 'MS_10430', 'MS_4503', 'MS_32355', 'MS_70304', 'MS_19653', 'MS_45752', 'MS_40982', 'MS_25431', 'MS_72855', 'MS_8595', 'MS_31471', 'MS_5918', 'MS_42949', 'MS_32736', 'MS_65656', 'MS_24706', 'MS_39644', 'MS_66141', 'MS_25436', 'MS_54664', 'MS_68182', 'MS_58896', 'MS_52980', 'MS_5472', 'MS_23870', 'MS_71136', 'MS_28424', 'MS_70092', 'MS_6140', 'MS_2212', 'MS_44442', 'MS_65526', 'MS_1982', 'MS_41540', 'MS_11241', 'MS_55706', 'MS_47965', 'MS_38338', 'MS_22990', 'MS_35869', 'MS_48559', 'MS_53348', 'MS_35019', 'MS_54612', 'MS_862', 'MS_64403', 'MS_42133', 'MS_14202', 'MS_59012', 'MS_41216', 'MS_42127', 'MS_28874', 'MS_23026', 'MS_4617', 'MS_22867', 'MS_3319', 'MS_62956', 'MS_5741', 'MS_12092', 'MS_49690', 'MS_51418', 'MS_23717', 'MS_52687', 'MS_5592', 'MS_54882', 'MS_15104', 'MS_67284', 'MS_9355', 'MS_28028', 'MS_12297', 'MS_11393', 'MS_54709', 'MS_29622', 'MS_67597', 'MS_49907', 'MS_6969', 'MS_54331', 'MS_28602', 'MS_52942', 'MS_56825', 'MS_62107', 'MS_498', 'MS_42762', 'MS_22869', 'MS_4654', 'MS_41161', 'MS_47777', 'MS_36932', 'MS_42525', 'MS_62274', 'MS_56578']\n"
     ]
    }
   ],
   "source": [
    "print(\"USER\")\n",
    "v = g_no_spike.vertex(\"USER\")\n",
    "neighbour_names = v.neighbours.name.collect()\n",
    "print(neighbour_names)"
   ]
  },
  {
   "cell_type": "code",
   "execution_count": 14,
   "metadata": {},
   "outputs": [
    {
     "name": "stdout",
     "output_type": "stream",
     "text": [
      "Graph(number_of_edges=931, number_of_vertices=1628, number_of_temporal_edges=7465458, earliest_time=\"7200000\", latest_time=\"10799999\")\n"
     ]
    }
   ],
   "source": [
    "list_of_names = []\n",
    "for name in neighbour_names:\n",
    "    list_of_names.append(name)\n",
    "subgraph = g.subgraph(list_of_names)\n",
    "print(subgraph)"
   ]
  },
  {
   "cell_type": "code",
   "execution_count": 15,
   "metadata": {},
   "outputs": [
    {
     "name": "stdout",
     "output_type": "stream",
     "text": [
      "Warning: When  cdn_resources is 'local' jupyter notebook has issues displaying graphics on chrome/safari. Use cdn_resources='in_line' or cdn_resources='remote' if you have issues viewing graphics in a notebook.\n",
      "idk.html\n"
     ]
    },
    {
     "data": {
      "text/html": [
       "\n",
       "        <iframe\n",
       "            width=\"100%\"\n",
       "            height=\"600px\"\n",
       "            src=\"idk.html\"\n",
       "            frameborder=\"0\"\n",
       "            allowfullscreen\n",
       "            \n",
       "        ></iframe>\n",
       "        "
      ],
      "text/plain": [
       "<IPython.lib.display.IFrame at 0x21c4e5d4190>"
      ]
     },
     "execution_count": 15,
     "metadata": {},
     "output_type": "execute_result"
    }
   ],
   "source": [
    "import raphtory.export as ex\n",
    "import json\n",
    "\n",
    "pyvis_g = ex.to_pyvis(\n",
    "    subgraph, edge_weight=\"data_size_MB\", edge_color=\"#8e9b9e\", directed=True\n",
    ")\n",
    "\n",
    "pyvis_g.show(\"idk.html\")"
   ]
  },
  {
   "cell_type": "markdown",
   "metadata": {},
   "source": [
    "# -----------------"
   ]
  },
  {
   "cell_type": "code",
   "execution_count": 3,
   "metadata": {},
   "outputs": [
    {
     "name": "stdout",
     "output_type": "stream",
     "text": [
      "Rank 1: MS_27421 with a score of 1.00000\n",
      "Rank 2: USER with a score of 0.76496\n",
      "Rank 3: MS_37691 with a score of 0.41650\n",
      "Rank 4: MS_2827 with a score of 0.33853\n",
      "Rank 5: MS_46825 with a score of 0.21548\n",
      "Rank 6: MS_21883 with a score of 0.11483\n",
      "Rank 7: MS_68453 with a score of 0.10122\n",
      "Rank 8: MS_35973 with a score of 0.08648\n",
      "Rank 9: MS_14728 with a score of 0.08307\n",
      "Rank 10: MS_14304 with a score of 0.07797\n",
      "Rank 11: MS_4354 with a score of 0.07769\n",
      "Rank 12: MS_44585 with a score of 0.07145\n",
      "Rank 13: MS_21537 with a score of 0.07145\n",
      "Rank 14: MS_46708 with a score of 0.06890\n",
      "Rank 15: MS_45285 with a score of 0.06861\n",
      "Rank 16: MS_41864 with a score of 0.06635\n",
      "Rank 17: MS_32402 with a score of 0.06266\n",
      "Rank 18: MS_745 with a score of 0.05954\n",
      "Rank 19: MS_19585 with a score of 0.05699\n",
      "Rank 20: MS_39564 with a score of 0.05614\n"
     ]
    }
   ],
   "source": [
    "from raphtory import algorithms as rp\n",
    "# usage in the function call\n",
    "balance_result = rp.degree_centrality(g_no_spike, threads=3)\n",
    "\n",
    "top_20 = balance_result.top_k(20)\n",
    "for rank, (name,score) in enumerate(top_20, 1):\n",
    "    print(f\"Rank {rank}: {name} with a score of {score:.5f}\")"
   ]
  },
  {
   "cell_type": "code",
   "execution_count": 4,
   "metadata": {},
   "outputs": [
    {
     "name": "stdout",
     "output_type": "stream",
     "text": [
      "Graph(number_of_edges=15, number_of_vertices=20, number_of_temporal_edges=40659, earliest_time=\"7200000\", latest_time=\"10799999\")\n"
     ]
    }
   ],
   "source": [
    "list_of_names = []\n",
    "for name,score in top_20:\n",
    "    list_of_names.append(name)\n",
    "subgraph = g.subgraph(list_of_names)\n",
    "print(subgraph)"
   ]
  },
  {
   "cell_type": "code",
   "execution_count": 5,
   "metadata": {},
   "outputs": [
    {
     "name": "stdout",
     "output_type": "stream",
     "text": [
      "Warning: When  cdn_resources is 'local' jupyter notebook has issues displaying graphics on chrome/safari. Use cdn_resources='in_line' or cdn_resources='remote' if you have issues viewing graphics in a notebook.\n",
      "nx_no20mins_spike.html\n"
     ]
    },
    {
     "data": {
      "text/html": [
       "\n",
       "        <iframe\n",
       "            width=\"100%\"\n",
       "            height=\"600px\"\n",
       "            src=\"nx_no20mins_spike.html\"\n",
       "            frameborder=\"0\"\n",
       "            allowfullscreen\n",
       "            \n",
       "        ></iframe>\n",
       "        "
      ],
      "text/plain": [
       "<IPython.lib.display.IFrame at 0x21c4e5dc190>"
      ]
     },
     "execution_count": 5,
     "metadata": {},
     "output_type": "execute_result"
    }
   ],
   "source": [
    "import raphtory.export as ex\n",
    "import json\n",
    "\n",
    "pyvis_g = ex.to_pyvis(\n",
    "    subgraph, edge_weight=\"data_size_MB\", edge_color=\"#8e9b9e\", directed=True\n",
    ")\n",
    "\n",
    "pyvis_g.show(\"nx_no20mins_spike.html\")"
   ]
  },
  {
   "cell_type": "markdown",
   "metadata": {},
   "source": [
    "# -------------"
   ]
  },
  {
   "cell_type": "code",
   "execution_count": 2,
   "metadata": {},
   "outputs": [
    {
     "name": "stdout",
     "output_type": "stream",
     "text": [
      "Graph(number_of_edges=34081, number_of_vertices=12182, number_of_temporal_edges=3273937, earliest_time=\"10200000\", latest_time=\"10259999\")\n"
     ]
    }
   ],
   "source": [
    "from raphtory import algorithms as rp\n",
    "from raphtory import Graph\n",
    "\n",
    "start_time = 10200000 # Minute 170\n",
    "end_time = 10200000 +60000 # Minute 171\n",
    "\n",
    "g_spike_spike = g.window(start_time, end_time)\n",
    "print(g_spike_spike)"
   ]
  },
  {
   "cell_type": "code",
   "execution_count": 11,
   "metadata": {},
   "outputs": [
    {
     "name": "stdout",
     "output_type": "stream",
     "text": [
      "Rank 1: MS_27421 with a score of 1.00000\n",
      "Rank 2: USER with a score of 0.72307\n",
      "Rank 3: MS_37691 with a score of 0.47714\n",
      "Rank 4: MS_2827 with a score of 0.31582\n",
      "Rank 5: MS_46825 with a score of 0.28271\n",
      "Rank 6: MS_21883 with a score of 0.13295\n",
      "Rank 7: MS_14728 with a score of 0.11823\n",
      "Rank 8: MS_35973 with a score of 0.10300\n",
      "Rank 9: MS_44585 with a score of 0.10247\n",
      "Rank 10: MS_27239 with a score of 0.10089\n",
      "Rank 11: MS_68453 with a score of 0.09879\n",
      "Rank 12: MS_46708 with a score of 0.09721\n",
      "Rank 13: MS_21537 with a score of 0.09564\n",
      "Rank 14: MS_45285 with a score of 0.09038\n",
      "Rank 15: MS_25557 with a score of 0.08986\n",
      "Rank 16: MS_14304 with a score of 0.08881\n",
      "Rank 17: MS_39211 with a score of 0.08460\n",
      "Rank 18: MS_32402 with a score of 0.07830\n",
      "Rank 19: MS_19585 with a score of 0.07725\n",
      "Rank 20: MS_55085 with a score of 0.07725\n"
     ]
    }
   ],
   "source": [
    "from raphtory import algorithms as rp\n",
    "# usage in the function call\n",
    "balance_result = rp.degree_centrality(g_spike_spike, threads=2)\n",
    "\n",
    "top_20 = balance_result.top_k(20)\n",
    "for rank, (name,score) in enumerate(top_20, 1):\n",
    "    print(f\"Rank {rank}: {name} with a score of {score:.5f}\")"
   ]
  },
  {
   "cell_type": "code",
   "execution_count": 12,
   "metadata": {},
   "outputs": [
    {
     "name": "stdout",
     "output_type": "stream",
     "text": [
      "Graph(number_of_edges=21, number_of_vertices=20, number_of_temporal_edges=418014, earliest_time=\"7200000\", latest_time=\"10799999\")\n"
     ]
    }
   ],
   "source": [
    "list_of_names = []\n",
    "for name,score in top_20:\n",
    "    list_of_names.append(name)\n",
    "subgraph = g.subgraph(list_of_names)\n",
    "print(subgraph)"
   ]
  },
  {
   "cell_type": "code",
   "execution_count": 14,
   "metadata": {},
   "outputs": [
    {
     "name": "stdout",
     "output_type": "stream",
     "text": [
      "Warning: When  cdn_resources is 'local' jupyter notebook has issues displaying graphics on chrome/safari. Use cdn_resources='in_line' or cdn_resources='remote' if you have issues viewing graphics in a notebook.\n",
      "nx_spike.html\n"
     ]
    },
    {
     "data": {
      "text/html": [
       "\n",
       "        <iframe\n",
       "            width=\"100%\"\n",
       "            height=\"600px\"\n",
       "            src=\"nx_spike.html\"\n",
       "            frameborder=\"0\"\n",
       "            allowfullscreen\n",
       "            \n",
       "        ></iframe>\n",
       "        "
      ],
      "text/plain": [
       "<IPython.lib.display.IFrame at 0x2694ea1ff50>"
      ]
     },
     "execution_count": 14,
     "metadata": {},
     "output_type": "execute_result"
    }
   ],
   "source": [
    "import raphtory.export as ex\n",
    "import json\n",
    "\n",
    "pyvis_g = ex.to_pyvis(\n",
    "    subgraph, edge_weight=\"data_size_MB\", edge_color=\"#8e9b9e\", directed=True\n",
    ")\n",
    "\n",
    "pyvis_g.show(\"nx_spike.html\")"
   ]
  },
  {
   "cell_type": "code",
   "execution_count": 6,
   "metadata": {},
   "outputs": [
    {
     "name": "stdout",
     "output_type": "stream",
     "text": [
      "Graph(number_of_edges=24407, number_of_vertices=9994, number_of_temporal_edges=2524931, earliest_time=\"7800000\", latest_time=\"7859999\")\n"
     ]
    }
   ],
   "source": [
    "from raphtory import algorithms as rp\n",
    "from raphtory import Graph\n",
    "\n",
    "start_time = 7800000 # Minute 130\n",
    "end_time = 7800000 +60000# Minute 150\n",
    "\n",
    "g_no__no_spike = g.window(start_time, end_time)\n",
    "print(g_no__no_spike)"
   ]
  },
  {
   "cell_type": "code",
   "execution_count": 7,
   "metadata": {},
   "outputs": [
    {
     "name": "stdout",
     "output_type": "stream",
     "text": [
      "Rank 1: MS_27421 with a score of 1.00000\n",
      "Rank 2: USER with a score of 0.88305\n",
      "Rank 3: MS_37691 with a score of 0.49212\n",
      "Rank 4: MS_2827 with a score of 0.37582\n",
      "Rank 5: MS_46825 with a score of 0.21682\n",
      "Rank 6: MS_68453 with a score of 0.12089\n",
      "Rank 7: MS_21883 with a score of 0.11498\n",
      "Rank 8: MS_35973 with a score of 0.09264\n",
      "Rank 9: MS_14728 with a score of 0.08936\n",
      "Rank 10: MS_32402 with a score of 0.08870\n",
      "Rank 11: MS_14304 with a score of 0.08410\n",
      "Rank 12: MS_44585 with a score of 0.08213\n",
      "Rank 13: MS_21537 with a score of 0.08081\n",
      "Rank 14: MS_4354 with a score of 0.07884\n",
      "Rank 15: MS_41864 with a score of 0.07884\n",
      "Rank 16: MS_745 with a score of 0.07687\n",
      "Rank 17: MS_19585 with a score of 0.07293\n",
      "Rank 18: MS_46708 with a score of 0.07227\n",
      "Rank 19: MS_4990 with a score of 0.06965\n",
      "Rank 20: MS_27487 with a score of 0.06899\n"
     ]
    }
   ],
   "source": [
    "from raphtory import algorithms as rp\n",
    "# usage in the function call\n",
    "balance_result = rp.degree_centrality(g_no__no_spike, threads=2)\n",
    "\n",
    "top_20 = balance_result.top_k(20)\n",
    "for rank, (name,score) in enumerate(top_20, 1):\n",
    "    print(f\"Rank {rank}: {name} with a score of {score:.5f}\")"
   ]
  },
  {
   "cell_type": "code",
   "execution_count": 8,
   "metadata": {},
   "outputs": [
    {
     "name": "stdout",
     "output_type": "stream",
     "text": [
      "Graph(number_of_edges=0, number_of_vertices=20, number_of_temporal_edges=0, earliest_time=\"7200000\", latest_time=\"10799999\")\n"
     ]
    }
   ],
   "source": [
    "list_of_names = []\n",
    "for name,score in top_20:\n",
    "    list_of_names.append(name)\n",
    "subgraph = g.subgraph(list_of_names)\n",
    "print(subgraph)"
   ]
  },
  {
   "cell_type": "code",
   "execution_count": 10,
   "metadata": {},
   "outputs": [
    {
     "name": "stdout",
     "output_type": "stream",
     "text": [
      "Warning: When  cdn_resources is 'local' jupyter notebook has issues displaying graphics on chrome/safari. Use cdn_resources='in_line' or cdn_resources='remote' if you have issues viewing graphics in a notebook.\n",
      "nx_no_spike.html\n"
     ]
    },
    {
     "data": {
      "text/html": [
       "\n",
       "        <iframe\n",
       "            width=\"100%\"\n",
       "            height=\"600px\"\n",
       "            src=\"nx_no_spike.html\"\n",
       "            frameborder=\"0\"\n",
       "            allowfullscreen\n",
       "            \n",
       "        ></iframe>\n",
       "        "
      ],
      "text/plain": [
       "<IPython.lib.display.IFrame at 0x2694e99f7d0>"
      ]
     },
     "execution_count": 10,
     "metadata": {},
     "output_type": "execute_result"
    }
   ],
   "source": [
    "import raphtory.export as ex\n",
    "import json\n",
    "\n",
    "pyvis_g = ex.to_pyvis(\n",
    "    subgraph, edge_weight=\"data_size_MB\", edge_color=\"#8e9b9e\", directed=True\n",
    ")\n",
    "\n",
    "pyvis_g.show(\"nx_no_spike.html\")"
   ]
  }
 ],
 "metadata": {
  "kernelspec": {
   "display_name": "Python 3",
   "language": "python",
   "name": "python3"
  },
  "language_info": {
   "codemirror_mode": {
    "name": "ipython",
    "version": 3
   },
   "file_extension": ".py",
   "mimetype": "text/x-python",
   "name": "python",
   "nbconvert_exporter": "python",
   "pygments_lexer": "ipython3",
   "version": "3.11.0"
  }
 },
 "nbformat": 4,
 "nbformat_minor": 2
}
