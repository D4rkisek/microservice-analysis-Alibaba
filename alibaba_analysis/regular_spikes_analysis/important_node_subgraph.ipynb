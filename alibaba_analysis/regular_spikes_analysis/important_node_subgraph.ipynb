{
 "cells": [
  {
   "cell_type": "code",
   "execution_count": 1,
   "metadata": {},
   "outputs": [
    {
     "name": "stdout",
     "output_type": "stream",
     "text": [
      "Graph(number_of_edges=97252, number_of_vertices=26533, number_of_temporal_edges=159288593, earliest_time=\"7200000\", latest_time=\"10799999\")\n"
     ]
    }
   ],
   "source": [
    "import os\n",
    "from raphtory import Graph\n",
    "\n",
    "# Specify the file path\n",
    "binecode_path = \"C:/ms_bincode/Graph_3\"\n",
    "\n",
    "# Load the file\n",
    "if os.path.isfile(binecode_path):\n",
    "    g = Graph.load_from_file(binecode_path)\n",
    "    print(g)\n",
    "else:\n",
    "    print(f\"File does not exist: {binecode_path}\")"
   ]
  },
  {
   "cell_type": "code",
   "execution_count": 2,
   "metadata": {},
   "outputs": [
    {
     "name": "stdout",
     "output_type": "stream",
     "text": [
      "Graph(number_of_edges=34081, number_of_vertices=12182, number_of_temporal_edges=3273937, earliest_time=\"10200000\", latest_time=\"10259999\")\n"
     ]
    }
   ],
   "source": [
    "from raphtory import algorithms as rp\n",
    "from raphtory import Graph\n",
    "\n",
    "start_time = 10200000 # Minute 170\n",
    "end_time = 10200000 +60000 # Minute 171\n",
    "\n",
    "g_spike_spike = g.window(start_time, end_time)\n",
    "print(g_spike_spike)"
   ]
  },
  {
   "cell_type": "code",
   "execution_count": 11,
   "metadata": {},
   "outputs": [
    {
     "name": "stdout",
     "output_type": "stream",
     "text": [
      "Rank 1: MS_27421 with a score of 1.00000\n",
      "Rank 2: USER with a score of 0.72307\n",
      "Rank 3: MS_37691 with a score of 0.47714\n",
      "Rank 4: MS_2827 with a score of 0.31582\n",
      "Rank 5: MS_46825 with a score of 0.28271\n",
      "Rank 6: MS_21883 with a score of 0.13295\n",
      "Rank 7: MS_14728 with a score of 0.11823\n",
      "Rank 8: MS_35973 with a score of 0.10300\n",
      "Rank 9: MS_44585 with a score of 0.10247\n",
      "Rank 10: MS_27239 with a score of 0.10089\n",
      "Rank 11: MS_68453 with a score of 0.09879\n",
      "Rank 12: MS_46708 with a score of 0.09721\n",
      "Rank 13: MS_21537 with a score of 0.09564\n",
      "Rank 14: MS_45285 with a score of 0.09038\n",
      "Rank 15: MS_25557 with a score of 0.08986\n",
      "Rank 16: MS_14304 with a score of 0.08881\n",
      "Rank 17: MS_39211 with a score of 0.08460\n",
      "Rank 18: MS_32402 with a score of 0.07830\n",
      "Rank 19: MS_19585 with a score of 0.07725\n",
      "Rank 20: MS_55085 with a score of 0.07725\n"
     ]
    }
   ],
   "source": [
    "from raphtory import algorithms as rp\n",
    "# usage in the function call\n",
    "balance_result = rp.degree_centrality(g_spike_spike, threads=2)\n",
    "\n",
    "top_20 = balance_result.top_k(20)\n",
    "for rank, (name,score) in enumerate(top_20, 1):\n",
    "    print(f\"Rank {rank}: {name} with a score of {score:.5f}\")"
   ]
  },
  {
   "cell_type": "code",
   "execution_count": 12,
   "metadata": {},
   "outputs": [
    {
     "name": "stdout",
     "output_type": "stream",
     "text": [
      "Graph(number_of_edges=21, number_of_vertices=20, number_of_temporal_edges=418014, earliest_time=\"7200000\", latest_time=\"10799999\")\n"
     ]
    }
   ],
   "source": [
    "list_of_names = []\n",
    "for name,score in top_20:\n",
    "    list_of_names.append(name)\n",
    "subgraph = g.subgraph(list_of_names)\n",
    "print(subgraph)"
   ]
  },
  {
   "cell_type": "code",
   "execution_count": 14,
   "metadata": {},
   "outputs": [
    {
     "name": "stdout",
     "output_type": "stream",
     "text": [
      "Warning: When  cdn_resources is 'local' jupyter notebook has issues displaying graphics on chrome/safari. Use cdn_resources='in_line' or cdn_resources='remote' if you have issues viewing graphics in a notebook.\n",
      "nx_spike.html\n"
     ]
    },
    {
     "data": {
      "text/html": [
       "\n",
       "        <iframe\n",
       "            width=\"100%\"\n",
       "            height=\"600px\"\n",
       "            src=\"nx_spike.html\"\n",
       "            frameborder=\"0\"\n",
       "            allowfullscreen\n",
       "            \n",
       "        ></iframe>\n",
       "        "
      ],
      "text/plain": [
       "<IPython.lib.display.IFrame at 0x2694ea1ff50>"
      ]
     },
     "execution_count": 14,
     "metadata": {},
     "output_type": "execute_result"
    }
   ],
   "source": [
    "import raphtory.export as ex\n",
    "import json\n",
    "\n",
    "pyvis_g = ex.to_pyvis(\n",
    "    subgraph, edge_weight=\"data_size_MB\", edge_color=\"#8e9b9e\", directed=True\n",
    ")\n",
    "\n",
    "pyvis_g.show(\"nx_spike.html\")"
   ]
  },
  {
   "cell_type": "code",
   "execution_count": 6,
   "metadata": {},
   "outputs": [
    {
     "name": "stdout",
     "output_type": "stream",
     "text": [
      "Graph(number_of_edges=24407, number_of_vertices=9994, number_of_temporal_edges=2524931, earliest_time=\"7800000\", latest_time=\"7859999\")\n"
     ]
    }
   ],
   "source": [
    "from raphtory import algorithms as rp\n",
    "from raphtory import Graph\n",
    "\n",
    "start_time = 7800000 # Minute 130\n",
    "end_time = 7800000 +60000# Minute 150\n",
    "\n",
    "g_no__no_spike = g.window(start_time, end_time)\n",
    "print(g_no__no_spike)"
   ]
  },
  {
   "cell_type": "code",
   "execution_count": 7,
   "metadata": {},
   "outputs": [
    {
     "name": "stdout",
     "output_type": "stream",
     "text": [
      "Rank 1: MS_27421 with a score of 1.00000\n",
      "Rank 2: USER with a score of 0.88305\n",
      "Rank 3: MS_37691 with a score of 0.49212\n",
      "Rank 4: MS_2827 with a score of 0.37582\n",
      "Rank 5: MS_46825 with a score of 0.21682\n",
      "Rank 6: MS_68453 with a score of 0.12089\n",
      "Rank 7: MS_21883 with a score of 0.11498\n",
      "Rank 8: MS_35973 with a score of 0.09264\n",
      "Rank 9: MS_14728 with a score of 0.08936\n",
      "Rank 10: MS_32402 with a score of 0.08870\n",
      "Rank 11: MS_14304 with a score of 0.08410\n",
      "Rank 12: MS_44585 with a score of 0.08213\n",
      "Rank 13: MS_21537 with a score of 0.08081\n",
      "Rank 14: MS_4354 with a score of 0.07884\n",
      "Rank 15: MS_41864 with a score of 0.07884\n",
      "Rank 16: MS_745 with a score of 0.07687\n",
      "Rank 17: MS_19585 with a score of 0.07293\n",
      "Rank 18: MS_46708 with a score of 0.07227\n",
      "Rank 19: MS_4990 with a score of 0.06965\n",
      "Rank 20: MS_27487 with a score of 0.06899\n"
     ]
    }
   ],
   "source": [
    "from raphtory import algorithms as rp\n",
    "# usage in the function call\n",
    "balance_result = rp.degree_centrality(g_no__no_spike, threads=2)\n",
    "\n",
    "top_20 = balance_result.top_k(20)\n",
    "for rank, (name,score) in enumerate(top_20, 1):\n",
    "    print(f\"Rank {rank}: {name} with a score of {score:.5f}\")"
   ]
  },
  {
   "cell_type": "code",
   "execution_count": 8,
   "metadata": {},
   "outputs": [
    {
     "name": "stdout",
     "output_type": "stream",
     "text": [
      "Graph(number_of_edges=0, number_of_vertices=20, number_of_temporal_edges=0, earliest_time=\"7200000\", latest_time=\"10799999\")\n"
     ]
    }
   ],
   "source": [
    "list_of_names = []\n",
    "for name,score in top_20:\n",
    "    list_of_names.append(name)\n",
    "subgraph = g.subgraph(list_of_names)\n",
    "print(subgraph)"
   ]
  },
  {
   "cell_type": "code",
   "execution_count": 10,
   "metadata": {},
   "outputs": [
    {
     "name": "stdout",
     "output_type": "stream",
     "text": [
      "Warning: When  cdn_resources is 'local' jupyter notebook has issues displaying graphics on chrome/safari. Use cdn_resources='in_line' or cdn_resources='remote' if you have issues viewing graphics in a notebook.\n",
      "nx_no_spike.html\n"
     ]
    },
    {
     "data": {
      "text/html": [
       "\n",
       "        <iframe\n",
       "            width=\"100%\"\n",
       "            height=\"600px\"\n",
       "            src=\"nx_no_spike.html\"\n",
       "            frameborder=\"0\"\n",
       "            allowfullscreen\n",
       "            \n",
       "        ></iframe>\n",
       "        "
      ],
      "text/plain": [
       "<IPython.lib.display.IFrame at 0x2694e99f7d0>"
      ]
     },
     "execution_count": 10,
     "metadata": {},
     "output_type": "execute_result"
    }
   ],
   "source": [
    "import raphtory.export as ex\n",
    "import json\n",
    "\n",
    "pyvis_g = ex.to_pyvis(\n",
    "    subgraph, edge_weight=\"data_size_MB\", edge_color=\"#8e9b9e\", directed=True\n",
    ")\n",
    "\n",
    "pyvis_g.show(\"nx_no_spike.html\")"
   ]
  }
 ],
 "metadata": {
  "kernelspec": {
   "display_name": "Python 3",
   "language": "python",
   "name": "python3"
  },
  "language_info": {
   "codemirror_mode": {
    "name": "ipython",
    "version": 3
   },
   "file_extension": ".py",
   "mimetype": "text/x-python",
   "name": "python",
   "nbconvert_exporter": "python",
   "pygments_lexer": "ipython3",
   "version": "3.11.0"
  }
 },
 "nbformat": 4,
 "nbformat_minor": 2
}
