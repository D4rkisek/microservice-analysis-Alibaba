{
 "cells": [
  {
   "cell_type": "markdown",
   "metadata": {},
   "source": [
    "# Out degree comparison analysis\n",
    "Compare nodes' out degrees with the highest out degreee in the giant componenent network to analyse the gradual spike. Hoping to get nodes that may be causing the gradual increase in the system "
   ]
  },
  {
   "cell_type": "code",
   "execution_count": null,
   "metadata": {},
   "outputs": [],
   "source": [
    "import os\n",
    "from raphtory import Graph\n",
    "\n",
    "# Specify the file path\n",
    "binecode_path = \"C:/ms_bincode/Graph_3\"\n",
    "\n",
    "# Load the file\n",
    "if os.path.isfile(binecode_path):\n",
    "    g = Graph.load_from_file(binecode_path)\n",
    "    print(g)\n",
    "else:\n",
    "    print(f\"File does not exist: {binecode_path}\")"
   ]
  }
 ],
 "metadata": {
  "language_info": {
   "name": "python"
  }
 },
 "nbformat": 4,
 "nbformat_minor": 2
}
